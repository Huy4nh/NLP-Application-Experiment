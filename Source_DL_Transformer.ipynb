{
  "cells": [
    {
      "cell_type": "code",
      "execution_count": null,
      "metadata": {
        "id": "pgmKYmk6ivdM",
        "colab": {
          "base_uri": "https://localhost:8080/"
        },
        "outputId": "d3c3a48f-8e4f-43d1-d395-a0f8cdfc28be"
      },
      "outputs": [
        {
          "output_type": "stream",
          "name": "stdout",
          "text": [
            "\tzip warning: name not matched: data\n",
            "\n",
            "zip error: Nothing to do! (try: zip -r data.zip . -i data)\n"
          ]
        }
      ],
      "source": [
        "!zip -r data.zip data"
      ]
    },
    {
      "cell_type": "code",
      "execution_count": null,
      "metadata": {
        "colab": {
          "base_uri": "https://localhost:8080/"
        },
        "id": "Z5u6laMzWcAn",
        "outputId": "879f523a-4d0a-4959-df2f-d261e800abd2"
      },
      "outputs": [
        {
          "output_type": "stream",
          "name": "stdout",
          "text": [
            "Mounted at /content/drive\n"
          ]
        }
      ],
      "source": [
        "from google.colab import drive\n",
        "drive.mount('/content/drive')"
      ]
    },
    {
      "cell_type": "code",
      "execution_count": null,
      "metadata": {
        "id": "4KPeMj4u3MsZ"
      },
      "outputs": [],
      "source": [
        "from urllib.request import urlopen\n",
        "from bs4 import BeautifulSoup\n",
        "import re\n",
        "\n",
        "URL='https://vnexpress.net'"
      ]
    },
    {
      "cell_type": "code",
      "execution_count": null,
      "metadata": {
        "id": "3UaCJRUIAIL_"
      },
      "outputs": [],
      "source": [
        "def get_links(url):\n",
        "  links=[]\n",
        "  html=urlopen(url).read()\n",
        "  soup=BeautifulSoup(html,'html.parser')\n",
        "\n",
        "  urls=set(re.findall(r'(?:http|https|ftp):\\/\\/(?:[\\w_-]+(?:(?:\\.[\\w_-]+)+))(?:[\\w.,@?^=%&:/~+#-]*[\\w@?^=%&/~+#-])',str(soup)))\n",
        "\n",
        "  for url in urls:\n",
        "    if url != URL and url.startswith(URL) and not url.startswith(URL + '/tac-gia') and url.endswith('.html'):\n",
        "      links.append(url)\n",
        "  return links"
      ]
    },
    {
      "cell_type": "code",
      "execution_count": null,
      "metadata": {
        "colab": {
          "base_uri": "https://localhost:8080/"
        },
        "id": "eeYPMUUMB917",
        "outputId": "ea8c453a-3816-4b3f-8cde-b0a348886a9e"
      },
      "outputs": [
        {
          "output_type": "execute_result",
          "data": {
            "text/plain": [
              "['https://vnexpress.net/chang-trai-viet-day-nguoi-dan-chau-phi-trong-lua-nuoc-4753859.html',\n",
              " 'https://vnexpress.net/cuoc-dau-mot-mat-mot-con-giua-ten-hag-va-sancho-4753911.html',\n",
              " 'https://vnexpress.net/cuoc-cai-va-voi-chi-dau-gop-phan-khien-con-trai-ong-biden-hau-toa-4753573.html',\n",
              " 'https://vnexpress.net/bo-truong-tai-nguyen-va-moi-truong-dang-quoc-khanh-tra-loi-chat-van-4753965.html',\n",
              " 'https://vnexpress.net/cho-hang-gio-mua-vang-binh-on-4753823.html',\n",
              " 'https://vnexpress.net/ung-vien-thu-tuong-anh-tuyen-bo-san-sang-dung-vu-khi-hat-nhan-4754032.html',\n",
              " 'https://vnexpress.net/ong-thich-minh-tue-dung-di-bo-khat-thuc-4753717.html',\n",
              " 'https://vnexpress.net/ly-do-khien-khach-trung-quoc-den-viet-nam-nhieu-nhat-thang-5-4753661.html',\n",
              " 'https://vnexpress.net/am-muu-thu-tieu-bo-nhi-10-nam-cua-quan-chuc-ngoai-tinh-4753923.html',\n",
              " 'https://vnexpress.net/nghi-luc-song-cua-chang-trai-tung-lao-vao-bien-lua-cuu-me-4752439.html',\n",
              " 'https://vnexpress.net/my-neu-ly-do-nga-mat-da-tien-o-kharkov-4753997.html',\n",
              " 'https://vnexpress.net/giao-khoa-moi-ap-luc-cu-4753314.html',\n",
              " 'https://vnexpress.net/uy-ban-xa-hoi-de-nghi-cung-cap-viec-thu-chi-2-phi-cong-doan-4753777.html',\n",
              " 'https://vnexpress.net/dong-luc-thuc-day-ong-zelensky-du-doi-thoai-shangri-la-4753540.html',\n",
              " 'https://vnexpress.net/hon-20-nam-no-luc-cua-chris-hemsworth-4753354.html',\n",
              " 'https://vnexpress.net/nhung-co-giao-vua-day-vua-tat-nuoc-trong-lop-4753927.html',\n",
              " 'https://vnexpress.net/vang-mieng-lui-ve-79-trieu-dong-4754096.html',\n",
              " 'https://vnexpress.net/van-de-dai-loan-ukraine-dot-nong-doi-thoai-shangri-la-4753530.html',\n",
              " 'https://vnexpress.net/lanh-tu-iran-israel-se-linh-ket-cuc-bi-huy-diet-4753881.html',\n",
              " 'https://vnexpress.net/brad-pitt-dau-long-khi-con-gai-bo-ho-bo-4754028.html',\n",
              " 'https://vnexpress.net/chien-dich-trump-huy-dong-duoc-141-trieu-usd-trong-thang-5-4753949.html',\n",
              " 'https://vnexpress.net/mbappe-va-12-sieu-sao-cua-ngan-ha-real-madrid-4754056.html',\n",
              " 'https://vnexpress.net/nha-ve-sinh-va-tram-dung-nghi-4753782.html',\n",
              " 'https://vnexpress.net/ap-luc-thue-tang-khi-gia-nha-len-cao-o-my-4753700.html',\n",
              " 'https://vnexpress.net/chat-vat-hoan-thue-thu-nhap-ca-nhan-4753113.html',\n",
              " 'https://vnexpress.net/tiem-nang-dot-pha-tu-loai-thuoc-chua-ung-thu-ruot-4754052.html']"
            ]
          },
          "metadata": {},
          "execution_count": 14
        }
      ],
      "source": [
        "get_links(URL)"
      ]
    },
    {
      "cell_type": "code",
      "execution_count": null,
      "metadata": {
        "colab": {
          "base_uri": "https://localhost:8080/"
        },
        "id": "wImjXKuvCDm3",
        "outputId": "a3ca879f-141f-4560-b6de-e9d103abf8d9"
      },
      "outputs": [
        {
          "output_type": "stream",
          "name": "stdout",
          "text": [
            "khoa-hoc 100\n",
            "giai-tri 100\n",
            "the-thao 100\n",
            "kinh-doanh 100\n",
            "suc-khoe 100\n",
            "goc-nhin 47\n"
          ]
        }
      ],
      "source": [
        "get_links(URL)\n",
        "categories=['khoa-hoc','giai-tri','the-thao','kinh-doanh','suc-khoe']\n",
        "\n",
        "article_url={}\n",
        "\n",
        "for category in categories:\n",
        "  article_url[category]=[]\n",
        "\n",
        "  for i in range(1,11):\n",
        "    url='{}/{}-p{}'.format(URL,category,str(i))\n",
        "    article_url[category]+= get_links(url)\n",
        "\n",
        "  article_url[category]=list(set(article_url[category][:100]))\n",
        "  print(category,len(article_url[category]))\n",
        "\n",
        "  goc_nhin=['binh-luan-nhieu','covid-19','chinh-tri-chinh-sach','y-te-suc-khoe','kinh-doanh-quan-tri','giao-duc-tri-thuc','van-hoa-loi-song']\n",
        "  article_url['goc-nhin']=[]\n",
        "\n",
        "  for sub_cate in goc_nhin:\n",
        "    url='{}/{}/{}'.format(URL,'goc-nhin',sub_cate)\n",
        "    article_url['goc-nhin'] +=get_links(url)\n",
        "\n",
        "article_url['goc-nhin']= list(set(article_url['goc-nhin'][:50]))\n",
        "print('goc-nhin',len(article_url['goc-nhin']))\n"
      ]
    },
    {
      "cell_type": "markdown",
      "metadata": {
        "id": "RLag7tJbazeU"
      },
      "source": []
    },
    {
      "cell_type": "code",
      "execution_count": null,
      "metadata": {
        "id": "y2ATj9-gJ4W_"
      },
      "outputs": [],
      "source": [
        "def get_content(url):\n",
        "  content=''\n",
        "  html=urlopen(url).read()\n",
        "  soup=BeautifulSoup(html,'html.parser')\n",
        "\n",
        "  div_content= soup.select('.page-detail .container')\n",
        "  if len(div_content) > 0:\n",
        "    div_content= div_content[0]\n",
        "\n",
        "    description= div_content.find_all('p',{'class': 'description'})\n",
        "    if len(description)>0:\n",
        "      description=description[-1]\n",
        "      text_description=description.get_text()\n",
        "      location=description.find('span',{'class': 'location-stamp'})\n",
        "      if location is not None:\n",
        "        content=text_description[len(location.get_text()):]\n",
        "      else:\n",
        "        content = text_description\n",
        "\n",
        "    detail= div_content.find('article',{'class': 'fck_detail'})\n",
        "    if detail is not None:\n",
        "      p_normal= detail.find_all('p',{'class':'Normal'})\n",
        "      if len(p_normal) >0:\n",
        "        for p in p_normal:\n",
        "          p_text=p.get_text()\n",
        "          if p_text !='' and not p_text.startswith('>>') and p_text[-1] in ['.','!','?']:\n",
        "            content+=' ' + p.get_text()\n",
        "  return re.sub(r'\\n','',content)"
      ]
    },
    {
      "cell_type": "code",
      "execution_count": null,
      "metadata": {
        "id": "D5KKc1F2NfAQ",
        "colab": {
          "base_uri": "https://localhost:8080/",
          "height": 140
        },
        "outputId": "18d1720c-69a5-4c76-d26e-bdd02d8fab3a"
      },
      "outputs": [
        {
          "output_type": "execute_result",
          "data": {
            "text/plain": [
              "'Camera kỹ thuật số nặng 3 tấn vượt qua hành trình bằng máy bay và xe tải để tới đài quan sát trên đỉnh núi cao hơn 2.700 m an toàn. Sau hai thập kỷ phát triển, camera trung tâm của Đài quan sát Vera C. Rubin tương lai đã tới ngôi nhà của nó vào tuần trước. Hiện nay, camera đang nằm trên đỉnh núi Cerro Pachón ở Chile. Camera này là phần quan trọng cuối cùng của Kính viễn vọng khảo sát Simonyi thuộc Đài quan sát Rubin. Tại đó, thiết bị sẽ được lắp đặt sau vài tháng kiểm tra kỹ lưỡng. Vận chuyển an toàn và thành công camera lớn cỡ chiếc SUV từ nơi chế tạo là Phòng thí nghiệm gia tốc quốc gia SLAC ở California tới vị trí trên đỉnh núi thuộc dãy Andes, Chile là một thành tựu không hề nhỏ, theo Space. Đây là camera lớn nhất từng được chế tạo cho thiên văn học, nặng 3 tấn và có bề rộng 1,5 m. Vì vậy, để giảm thiểu rủi ro đối với thiết bị trị giá 168 triệu USD, các nhà khoa học và kỹ sư thực hiện một đợt tổng duyệt vào năm 2021 khi vận chuyển bản mô phỏng có khối lượng tương đương tới Chile. Bản mô phỏng được lắp thiết bị ghi chép dữ liệu để lưu lại điều kiện mà camera thực sẽ trải qua trong suốt hành trình. \"Vận chuyển một thiết bị tinh vi như vậy đi khắp thế giới bao hàm nhiều rủi ro. Với 10 năm lắp ráp camera, đỉnh điểm là chuyến bay kéo dài 10 giờ và con đường đất quanh co lên núi, việc vận chuyển đúng cách rất quan trọng\", Margaux Lopez, kỹ sư cơ khí ở SLAC, phụ trách lên kế hoạch vận chuyển camera, cho biết. \"Nhưng do chúng tôi đã có kinh nghiệm và dữ liệu từ đợt vận chuyển thử, chúng tôi tin chắc có thể bảo vệ camera an toàn\". Hôm 14/5, camera được chuyển tới sân bay San Francisco cho chuyến bay 10 giờ tới Chile. Thiết bị bay trên máy bay chở hàng Boeing 747, hạ cánh hôm sau ở sân bay quốc tế Santiago ở Chile, sân bay gần đài quan sát Rubin nhất có thể chứa máy bay lớn cỡ này. Vào tối ngày hôm sau, camera và đoàn 9 xe tải nằm an toàn bên trong cổng bảo vệ ở trạm Cerro Pachón. Buổi sáng tiếp theo, thiết bị bắt đầu hành trình 5 giờ trên con đường đất ngoằn ngoèo dài 35 km lên đỉnh núi ở độ cao hơn 2.713 m so với mức nước biển. \"Mục tiêu của chúng tôi là đảm bảo camera không chỉ nguyên vẹn mà còn tới nơi trong tình trạng hoàn hảo\", Kevin Reil, nhà khoa học ở Đài quan sát Rubi, cho biết. Kiểm tra sau đó xác nhận camera không gặp phải bất kỳ áp lực ngoài dự kiến nào trong quãng đường dài. Theo Rei, các chỉ số ban đầu, bao gồm thông tin thu thập bởi bộ ghi dữ liệu, gia tốc kế và cảm biến sốc chứng tỏ họ đã thành công. Camera tới đài quan sát thành công là tin tốt không chỉ với tất cả nhà khoa học và kỹ sư tham gia dự án mà cả với thế hệ những nhà thiên văn học háo hức chờ đài quan sát hoạt động, dự kiến cuối năm sau. Đó là khi đài quan sát Rubin tiến hành nghiên cứu kéo dài cả thập kỷ về vũ trụ bằng cách chụp ảnh toàn cảnh bầu trời phía nam vài tối một lần, giúp lập danh mục khoảng 37 tỷ vật thể. Khảo sát này mang tên \"Legacy Survey of Space and Time\". Camera LSST lập kỷ lục thế giới vào năm 2020 với bức ảnh lớn nhất chụp bằng camera kỹ thuật số khổng lồ. Các nhà khoa học cho biết chỉ một bức ảnh 3.200 megapixel của nó cũng cần 378 TV 4K độ nét siêu cao để hiển thị. Độ phân giải của nó tốt đến mức có thể phát hiện một quả bóng golf từ khoảng cách 25 km. Sử dụng dữ liệu từ khảo sát 10 năm, giới thiên văn học hy vọng có thể thu thập manh mối về bản chất của vật chất tối và năng lượng tối chiếm hơn 90% khối lượng vũ trụ nhưng chưa thể phát hiện trực tiếp. Quan trọng nhất là camera LSST sẽ tìm kiếm và nghiên cứu dấu hiệu của thấu kính hấp dẫn yếu, hiện tượng vũ trụ xảy ra khi một thiên hà lớn bẻ cong hoặc làm biến dạng ánh sáng từ thiên hà nền.'"
            ],
            "application/vnd.google.colaboratory.intrinsic+json": {
              "type": "string"
            }
          },
          "metadata": {},
          "execution_count": 17
        }
      ],
      "source": [
        "get_content(article_url['khoa-hoc'][0])"
      ]
    },
    {
      "cell_type": "code",
      "execution_count": null,
      "metadata": {
        "id": "p7PWSmxOY3T0",
        "colab": {
          "base_uri": "https://localhost:8080/"
        },
        "outputId": "465600b0-b9ad-4fef-f134-5e1afca0db9a"
      },
      "outputs": [
        {
          "output_type": "stream",
          "name": "stdout",
          "text": [
            "AÁÀẢÃẠĂẮẰẲẴẶÂẤẦẨẪẬBCDĐEÉÈẺẼẸÊẾỀỂỄỆGHIÍÌỈĨỊKLMNÓÒỎÕỌỐỒỔỖỘỜỚỞỠỢOÓÒỎÕỌỐỒỔỖỘỜỚỞỠỢÔỐỒỔỖỘỜỚỞỠỢƠỚỜỞỠỢPQRSTUÚÙỦŨỤỨỪỬỮỰƯVXYÝỲỶỸỴWZ\n"
          ]
        }
      ],
      "source": [
        "uppercase = (\n",
        "    \"AÁÀẢÃẠĂẮẰẲẴẶÂẤẦẨẪẬ\"\n",
        "    \"B\"\n",
        "    \"C\"\n",
        "    \"DĐ\"\n",
        "    \"EÉÈẺẼẸÊẾỀỂỄỆ\"\n",
        "    \"G\"\n",
        "    \"H\"\n",
        "    \"IÍÌỈĨỊ\"\n",
        "    \"K\"\n",
        "    \"L\"\n",
        "    \"M\"\n",
        "    \"NÓÒỎÕỌỐỒỔỖỘỜỚỞỠỢ\"\n",
        "    \"OÓÒỎÕỌỐỒỔỖỘỜỚỞỠỢ\"\n",
        "    \"ÔỐỒỔỖỘỜỚỞỠỢ\"\n",
        "    \"ƠỚỜỞỠỢ\"\n",
        "    \"P\"\n",
        "    \"Q\"\n",
        "    \"R\"\n",
        "    \"S\"\n",
        "    \"T\"\n",
        "    \"UÚÙỦŨỤỨỪỬỮỰƯ\"\n",
        "    \"V\"\n",
        "    \"X\"\n",
        "    \"YÝỲỶỸỴ\"\n",
        "    \"W\"\n",
        "    \"Z\"\n",
        ")\n",
        "\n",
        "\n",
        "uppercase_string = ''.join(uppercase)\n",
        "print(uppercase_string)"
      ]
    },
    {
      "cell_type": "code",
      "execution_count": null,
      "metadata": {
        "id": "8BzY0NooBedK"
      },
      "outputs": [],
      "source": [
        "import os.path\n",
        "from os import path\n",
        "if path.exists('/content/drive/MyDrive/data/categories/') == False:\n",
        "  !mkdir /content/drive/MyDrive/data/categories/"
      ]
    },
    {
      "cell_type": "code",
      "execution_count": null,
      "metadata": {
        "id": "zEwsIAXIXgSZ",
        "colab": {
          "base_uri": "https://localhost:8080/"
        },
        "outputId": "32b8d5d2-e3a8-41a4-e08d-dd80658e9e75"
      },
      "outputs": [
        {
          "output_type": "stream",
          "name": "stdout",
          "text": [
            "khoa-hoc 100\n",
            "goc-nhin 47\n",
            "giai-tri 100\n",
            "the-thao 100\n",
            "kinh-doanh 99\n",
            "suc-khoe 100\n",
            "tổng số câu tách được: 13173\n"
          ]
        }
      ],
      "source": [
        "import os\n",
        "import shutil\n",
        "def delete_files_in_folder(folder_path):\n",
        "    for root, dirs, files in os.walk(folder_path):\n",
        "        for file in files:\n",
        "            os.remove(os.path.join(root, file))\n",
        "        for dir in dirs:\n",
        "            shutil.rmtree(os.path.join(root, dir))\n",
        "\n",
        "# Thay đổi đường dẫn của thư mục mà bạn muốn xóa các tệp\n",
        "folder_path = \"/content/drive/MyDrive/data/categories/\"\n",
        "delete_files_in_folder(folder_path)\n",
        "sentence=[]\n",
        "\n",
        "uppercase='AÁÀẢÃẠĂẮẰẲẴẶÂẤẦẨẪẬBCDĐEÉÈẺẼẸÊẾỀỂỄỆGHIÍÌỈĨỊKLMNÓÒỎÕỌỐỒỔỖỘỜỚỞỠỢOÓÒỎÕỌỐỒỔỖỘỜỚỞỠỢÔỐỒỔỖỘỜỚỞỠỢƠỚỜỞỠỢPQRSTUÚÙỦŨỤỨỪỬỮỰƯVXYÝỲỶỸỴWZ'\n",
        "\n",
        "for category in article_url.keys():\n",
        "  current_path='/content/drive/MyDrive/data/categories/' + category +'/'\n",
        "  os.mkdir(current_path)\n",
        "\n",
        "  count=0\n",
        "  for i in range(len(article_url[category])):\n",
        "    content=get_content(article_url[category][i])\n",
        "    if content !='':\n",
        "      count+=1\n",
        "      f=open('{}/{}_{}.txt'.format(current_path,category,str(count)), 'w', encoding='utf-8')\n",
        "\n",
        "      lines=re.sub(r'(?<=[.?!])(?=[\\'\"`]*['+ uppercase +'-])',' ',content)\n",
        "\n",
        "      lines=re.split(r'(?<=[.?!])\\s+(?=[\\'\"`\"'']*['+ uppercase +'0-9-])',content )\n",
        "\n",
        "      for line in lines:\n",
        "        f.write(line + '\\n')\n",
        "        sentence.append(line)\n",
        "      f.close()\n",
        "\n",
        "  print(category,count)\n",
        "\n",
        "sentence=list(set(sentence))\n",
        "print('tổng số câu tách được:',len(sentence))"
      ]
    },
    {
      "cell_type": "code",
      "execution_count": null,
      "metadata": {
        "id": "vHY3d4jK5OF4",
        "colab": {
          "base_uri": "https://localhost:8080/"
        },
        "outputId": "072e0979-92c8-48d3-905f-5e5944db230e"
      },
      "outputs": [
        {
          "output_type": "execute_result",
          "data": {
            "text/plain": [
              "['Và thế là chúng tôi ngồi đợi cậu ấy đến\".',\n",
              " 'Chóng mặt kịch phát tư thế lành tính (BPPV) là bệnh phổ biến, thường gặp ở nữ.',\n",
              " 'Dễ làm, dễ được chấp nhận khiến ổ bánh mì cũng dễ lọt qua mọi quy chuẩn giám sát về an toàn thực phẩm.',\n",
              " 'Tuy nhiên, mức chênh lệch giữa giá vàng miếng SJC trong nước và giá vàng thế giới vẫn ở mức cao, khoảng trên 20%.',\n",
              " 'Anh vẫn khóc rung cả người dù cố gắng kìm nén.',\n",
              " 'Hendricks còn mua và cải tạo nhiều tòa nhà lịch sử, doanh nghiệp lâu đời của thị trấn.',\n",
              " 'Đây là lúc nồng độ testosterone ở mức cao nhất.',\n",
              " 'Tháng 2, Sun Life Việt Nam tăng vốn điều lệ từ 16.480 tỷ đồng lên 17.944 tỷ đồng.',\n",
              " 'Tập thể dục thường xuyên giúp giảm mức chất béo trung tính và tăng cholesterol HDL, cả hai đều tốt cho trái tim.',\n",
              " 'Tôi cố gắng học hỏi đồng đội, gia đình bên nội và càng ngày học được nhiều điều.']"
            ]
          },
          "metadata": {},
          "execution_count": 21
        }
      ],
      "source": [
        "sentence[:10]"
      ]
    },
    {
      "cell_type": "code",
      "execution_count": null,
      "metadata": {
        "id": "yycp-Cqwydr3"
      },
      "outputs": [],
      "source": []
    },
    {
      "cell_type": "code",
      "execution_count": null,
      "metadata": {
        "id": "1EcXV_5byTRT",
        "colab": {
          "base_uri": "https://localhost:8080/"
        },
        "outputId": "8b4e06c1-e3bc-4859-b205-b76ac6746080"
      },
      "outputs": [
        {
          "output_type": "stream",
          "name": "stdout",
          "text": [
            "so luong cau trong file ngu lieu: 13173\n"
          ]
        }
      ],
      "source": [
        "file_corpus=open('/content/drive/MyDrive/data/corpus.txt','w',encoding='utf-8')\n",
        "\n",
        "count=0\n",
        "\n",
        "for sent in sentence:\n",
        "  sent=re.sub(r'\\u200b','',sent)\n",
        "  file_corpus.write(sent.strip()+'\\n')\n",
        "  count+=1\n",
        "file_corpus.close()\n",
        "\n",
        "print('so luong cau trong file ngu lieu:',count)"
      ]
    },
    {
      "cell_type": "code",
      "execution_count": null,
      "metadata": {
        "id": "VGb5MLOs5WDE",
        "colab": {
          "base_uri": "https://localhost:8080/"
        },
        "outputId": "c1214f0b-2d95-43dc-957a-e1fe1aedf7d4"
      },
      "outputs": [
        {
          "output_type": "stream",
          "name": "stdout",
          "text": [
            "so cau du lieu 13173\n"
          ]
        }
      ],
      "source": [
        "f = open('/content/drive/MyDrive/data/corpus.txt','r',encoding='utf-8')\n",
        "data = [line[:-1] for line in f.readlines()]\n",
        "f.close()\n",
        "\n",
        "print('so cau du lieu',len(data))"
      ]
    },
    {
      "cell_type": "code",
      "execution_count": null,
      "metadata": {
        "id": "p9Sm_WGT5mJX",
        "colab": {
          "base_uri": "https://localhost:8080/"
        },
        "outputId": "36464dde-5de1-4397-8fa8-9b758f3e3cf9"
      },
      "outputs": [
        {
          "output_type": "execute_result",
          "data": {
            "text/plain": [
              "['Và thế là chúng tôi ngồi đợi cậu ấy đến\".',\n",
              " 'Chóng mặt kịch phát tư thế lành tính (BPPV) là bệnh phổ biến, thường gặp ở nữ.',\n",
              " 'Dễ làm, dễ được chấp nhận khiến ổ bánh mì cũng dễ lọt qua mọi quy chuẩn giám sát về an toàn thực phẩm.',\n",
              " 'Tuy nhiên, mức chênh lệch giữa giá vàng miếng SJC trong nước và giá vàng thế giới vẫn ở mức cao, khoảng trên 20%.',\n",
              " 'Anh vẫn khóc rung cả người dù cố gắng kìm nén.',\n",
              " 'Hendricks còn mua và cải tạo nhiều tòa nhà lịch sử, doanh nghiệp lâu đời của thị trấn.',\n",
              " 'Đây là lúc nồng độ testosterone ở mức cao nhất.',\n",
              " 'Tháng 2, Sun Life Việt Nam tăng vốn điều lệ từ 16.480 tỷ đồng lên 17.944 tỷ đồng.',\n",
              " 'Tập thể dục thường xuyên giúp giảm mức chất béo trung tính và tăng cholesterol HDL, cả hai đều tốt cho trái tim.',\n",
              " 'Tôi cố gắng học hỏi đồng đội, gia đình bên nội và càng ngày học được nhiều điều.']"
            ]
          },
          "metadata": {},
          "execution_count": 3
        }
      ],
      "source": [
        "data[:10]"
      ]
    },
    {
      "cell_type": "code",
      "execution_count": null,
      "metadata": {
        "id": "6I60Pt7Z2e4N",
        "colab": {
          "base_uri": "https://localhost:8080/"
        },
        "outputId": "f1d129e6-3d25-40fe-f0f7-e822850837dd"
      },
      "outputs": [
        {
          "output_type": "stream",
          "name": "stdout",
          "text": [
            "['a', 'ă', 'â', 'e', 'ê', 'i', 'o', 'ô', 'ơ', 'u', 'ư', 'y', 'A', 'Ă', 'Â', 'E', 'Ê', 'I', 'O', 'Ô', 'Ơ', 'U', 'Ư', 'Y', 'á', 'à', 'ả', 'ã', 'ạ', 'ắ', 'ằ', 'ẳ', 'ẵ', 'ặ', 'ấ', 'ầ', 'ẩ', 'ẫ', 'ậ', 'é', 'è', 'ẻ', 'ẽ', 'ẹ', 'ế', 'ề', 'ể', 'ễ', 'ệ', 'í', 'ì', 'ỉ', 'ĩ', 'ị', 'ó', 'ò', 'ỏ', 'õ', 'ọ', 'ố', 'ồ', 'ổ', 'ỗ', 'ộ', 'ớ', 'ờ', 'ở', 'ỡ', 'ợ', 'ú', 'ù', 'ủ', 'ũ', 'ụ', 'ứ', 'ừ', 'ử', 'ữ', 'ự', 'ý', 'ỳ', 'ỷ', 'ỹ', 'ỵ', 'Á', 'À', 'Ả', 'Ã', 'Ạ', 'Ắ', 'Ằ', 'Ẳ', 'Ẵ', 'Ặ', 'Ấ', 'Ầ', 'Ẩ', 'Ẫ', 'Ậ', 'É', 'È', 'Ẻ', 'Ẽ', 'Ẹ', 'Ế', 'Ề', 'Ể', 'Ễ', 'Ệ', 'Í', 'Ì', 'Ỉ', 'Ĩ', 'Ị', 'Ó', 'Ò', 'Ỏ', 'Õ', 'Ọ', 'Ố', 'Ồ', 'Ổ', 'Ỗ', 'Ộ', 'Ớ', 'Ờ', 'Ở', 'Ỡ', 'Ợ', 'Ú', 'Ù', 'Ủ', 'Ũ', 'Ụ', 'Ứ', 'Ừ', 'Ử', 'Ữ', 'Ự', 'Ý', 'Ỳ', 'Ỷ', 'Ỹ', 'Ỵ']\n",
            "{'Anh': 'a', 'anh': 'a', 'chị': 'c', 'em': 'e', 'tôi': 't', 'bạn': 'bn', 'không': 'ko', 'được': 'dc', 'gì': 'j', 'biết': 'bt', 'rồi': 'r', 'vui': 'vv', 'buồn': 'b', 'và': 'vs', 'vì': 'v', 'như': 'n', 'điện thoại': 'dt', 'làm việc': 'lv', 'sinh nhật': 'sn', 'thế nào': 'tn', 'bao giờ': 'bg', 'nhất': '1', 'yêu': 'iu', 'không sao': 'ks', 'gia đình': 'gd', 'bạn bè': 'bb', 'giúp đỡ': 'gd', 'đi': 'đi', 'nhà': 'nhà', 'học': 'hc', 'người': 'ng', 'chưa': 'chưa', 'chuyện': 'ch', 'một': '1', 'rất': 'rất', 'với': 'vs'}\n",
            "{'á': \"a'\", 'à': 'a`', 'ả': 'a?', 'ã': 'a~', 'ạ': 'a.', 'ă': 'aw', 'ắ': \"aw'\", 'ằ': 'aw`', 'ẳ': 'aw?', 'ẵ': 'aw~', 'ặ': 'aw.', 'â': 'aa', 'ấ': \"aa'\", 'ầ': 'aa`', 'ẩ': 'aa?', 'ẫ': 'aa~', 'ậ': 'aa.', 'é': \"e'\", 'è': 'e`', 'ẻ': 'e?', 'ẽ': 'e~', 'ẹ': 'e.', 'ê': 'ee', 'ế': \"ee'\", 'ề': 'ee`', 'ể': 'ee?', 'ễ': 'ee~', 'ệ': 'ee.', 'í': \"i'\", 'ì': 'i`', 'ỉ': 'i?', 'ĩ': 'i~', 'ị': 'i.', 'ó': \"o'\", 'ò': 'o`', 'ỏ': 'o?', 'õ': 'o~', 'ọ': 'o.', 'ô': 'oo', 'ố': \"oo'\", 'ồ': 'oo`', 'ổ': 'oo?', 'ỗ': 'oo~', 'ộ': 'oo.', 'ơ': 'ow', 'ớ': \"ow'\", 'ờ': 'ow`', 'ở': 'ow?', 'ỡ': 'ow~', 'ợ': 'ow.', 'ú': \"u'\", 'ù': 'u`', 'ủ': 'u?', 'ũ': 'u~', 'ụ': 'u.', 'ư': 'uw', 'ứ': \"uw'\", 'ừ': 'uw`', 'ử': 'uw?', 'ữ': 'uw~', 'ự': 'uw.', 'ý': \"y'\", 'ỳ': 'y`', 'ỷ': 'y?', 'ỹ': 'y~', 'ỵ': 'y.'}\n",
            "{'á': 'ã', 'à': 'ạ', 'ả': 'ã', 'ã': 'ả', 'ạ': 'à', 'ă': 'â', 'ắ': 'ẳ', 'ằ': 'ặ', 'ẳ': 'ẵ', 'ẵ': 'ẳ', 'ặ': 'ằ', 'â': 'ă', 'ấ': 'ậ', 'ầ': 'ẩ', 'ẩ': 'ẫ', 'ẫ': 'ể', 'ậ': 'ấ', 'é': 'ẹ', 'è': 'ẻ', 'ẻ': 'ẽ', 'ẽ': 'è', 'ẹ': 'ế', 'ê': 'ê', 'ế': 'ể', 'ề': 'ệ', 'ể': 'ế', 'ễ': 'ề', 'ệ': 'ễ', 'í': 'ĩ', 'ì': 'ị', 'ỉ': 'ì', 'ĩ': 'í', 'ị': 'ỉ', 'ó': 'ọ', 'ò': 'ỏ', 'ỏ': 'õ', 'õ': 'ó', 'ọ': 'ò', 'ô': 'ơ', 'ố': 'ỗ', 'ồ': 'ộ', 'ổ': 'ố', 'ỗ': 'ồ', 'ộ': 'ổ', 'ơ': 'ô', 'ớ': 'ợ', 'ờ': 'ỡ', 'ở': 'ờ', 'ỡ': 'ớ', 'ợ': 'ở', 'ú': 'ụ', 'ù': 'ủ', 'ủ': 'ũ', 'ũ': 'ú', 'ụ': 'ù', 'ư': 'ơ', 'ứ': 'ự', 'ừ': 'ữ', 'ử': 'ứ', 'ữ': 'ừ', 'ự': 'ử', 'ý': 'ỵ', 'ỳ': 'ỷ', 'ỷ': 'ỹ', 'ỹ': 'ý', 'ỵ': 'ỳ'}\n",
            "{'b': 'p', 'c': 'k', 'd': 'đ', 'đ': 'd', 'g': 'gh', 'h': 'k', 'k': 'c', 'l': 'n', 'm': 'n', 'n': 'ng', 'p': 'b', 'q': 'k', 'r': 'd', 's': 'x', 't': 'th', 'v': 'f', 'x': 's', 'ch': 'tr', 'gh': 'g', 'kh': 'h', 'ng': 'n', 'ngh': 'ng', 'nh': 'n', 'ph': 'f', 'th': 't', 'tr': 'ch'}\n"
          ]
        }
      ],
      "source": [
        "vowel = list(\"aăâeêioôơuưyAĂÂEÊIOÔƠUƯYáàảãạắằẳẵặấầẩẫậéèẻẽẹếềểễệíìỉĩịóòỏõọốồổỗộớờởỡợúùủũụứừửữựýỳỷỹỵÁÀẢÃẠẮẰẲẴẶẤẦẨẪẬÉÈẺẼẸẾỀỂỄỆÍÌỈĨỊÓÒỎÕỌỐỒỔỖỘỚỜỞỠỢÚÙỦŨỤỨỪỬỮỰÝỲỶỸỴ\")\n",
        "consonants = list(\"bcdđghklmnpqrstvxBCDĐGHKLMNPQRSTVX\")\n",
        "full_letters=vowel + consonants\n",
        "print(vowel)\n",
        "\n",
        "typo = {\n",
        "    'á': 'a\\'',\n",
        "    'à': 'a`',\n",
        "    'ả': 'a?',\n",
        "    'ã': 'a~',\n",
        "    'ạ': 'a.',\n",
        "    'ă': 'aw',\n",
        "    'ắ': 'aw\\'',\n",
        "    'ằ': 'aw`',\n",
        "    'ẳ': 'aw?',\n",
        "    'ẵ': 'aw~',\n",
        "    'ặ': 'aw.',\n",
        "    'â': 'aa',\n",
        "    'ấ': 'aa\\'',\n",
        "    'ầ': 'aa`',\n",
        "    'ẩ': 'aa?',\n",
        "    'ẫ': 'aa~',\n",
        "    'ậ': 'aa.',\n",
        "    'é': 'e\\'',\n",
        "    'è': 'e`',\n",
        "    'ẻ': 'e?',\n",
        "    'ẽ': 'e~',\n",
        "    'ẹ': 'e.',\n",
        "    'ê': 'ee',\n",
        "    'ế': 'ee\\'',\n",
        "    'ề': 'ee`',\n",
        "    'ể': 'ee?',\n",
        "    'ễ': 'ee~',\n",
        "    'ệ': 'ee.',\n",
        "    'í': 'i\\'',\n",
        "    'ì': 'i`',\n",
        "    'ỉ': 'i?',\n",
        "    'ĩ': 'i~',\n",
        "    'ị': 'i.',\n",
        "    'ó': 'o\\'',\n",
        "    'ò': 'o`',\n",
        "    'ỏ': 'o?',\n",
        "    'õ': 'o~',\n",
        "    'ọ': 'o.',\n",
        "    'ô': 'oo',\n",
        "    'ố': 'oo\\'',\n",
        "    'ồ': 'oo`',\n",
        "    'ổ': 'oo?',\n",
        "    'ỗ': 'oo~',\n",
        "    'ộ': 'oo.',\n",
        "    'ơ': 'ow',\n",
        "    'ớ': 'ow\\'',\n",
        "    'ờ': 'ow`',\n",
        "    'ở': 'ow?',\n",
        "    'ỡ': 'ow~',\n",
        "    'ợ': 'ow.',\n",
        "    'ú': 'u\\'',\n",
        "    'ù': 'u`',\n",
        "    'ủ': 'u?',\n",
        "    'ũ': 'u~',\n",
        "    'ụ': 'u.',\n",
        "    'ư': 'uw',\n",
        "    'ứ': 'uw\\'',\n",
        "    'ừ': 'uw`',\n",
        "    'ử': 'uw?',\n",
        "    'ữ': 'uw~',\n",
        "    'ự': 'uw.',\n",
        "    'ý': 'y\\'',\n",
        "    'ỳ': 'y`',\n",
        "    'ỷ': 'y?',\n",
        "    'ỹ': 'y~',\n",
        "    'ỵ': 'y.'\n",
        "}\n",
        "region = {\n",
        "    'á': 'ã',\n",
        "    'à': 'ạ',\n",
        "    'ả': 'ã',\n",
        "    'ã': 'ả',\n",
        "    'ạ': 'à',\n",
        "    'ă': 'â',\n",
        "    'ắ': 'ẳ',\n",
        "    'ằ': 'ặ',\n",
        "    'ẳ': 'ẵ',\n",
        "    'ẵ': 'ẳ',\n",
        "    'ặ': 'ằ',\n",
        "    'â': 'ă',\n",
        "    'ấ': 'ậ',\n",
        "    'ầ': 'ẩ',\n",
        "    'ẩ': 'ẫ',\n",
        "    'ẫ': 'ể',\n",
        "    'ậ': 'ấ',\n",
        "    'é': 'ẹ',\n",
        "    'è': 'ẻ',\n",
        "    'ẻ': 'ẽ',\n",
        "    'ẽ': 'è',\n",
        "    'ẹ': 'ế',\n",
        "    'ê': 'ê',\n",
        "    'ế': 'ể',\n",
        "    'ề': 'ệ',\n",
        "    'ể': 'ế',\n",
        "    'ễ': 'ề',\n",
        "    'ệ': 'ễ',\n",
        "    'í': 'ĩ',\n",
        "    'ì': 'ị',\n",
        "    'ỉ': 'ì',\n",
        "    'ĩ': 'í',\n",
        "    'ị': 'ỉ',\n",
        "    'ó': 'ọ',\n",
        "    'ò': 'ỏ',\n",
        "    'ỏ': 'õ',\n",
        "    'õ': 'ó',\n",
        "    'ọ': 'ò',\n",
        "    'ô': 'ơ',\n",
        "    'ố': 'ỗ',\n",
        "    'ồ': 'ộ',\n",
        "    'ổ': 'ố',\n",
        "    'ỗ': 'ồ',\n",
        "    'ộ': 'ổ',\n",
        "    'ơ': 'ô',\n",
        "    'ớ': 'ợ',\n",
        "    'ờ': 'ỡ',\n",
        "    'ở': 'ờ',\n",
        "    'ỡ': 'ớ',\n",
        "    'ợ': 'ở',\n",
        "    'ú': 'ụ',\n",
        "    'ù': 'ủ',\n",
        "    'ủ': 'ũ',\n",
        "    'ũ': 'ú',\n",
        "    'ụ': 'ù',\n",
        "    'ư': 'ơ',\n",
        "    'ứ': 'ự',\n",
        "    'ừ': 'ữ',\n",
        "    'ử': 'ứ',\n",
        "    'ữ': 'ừ',\n",
        "    'ự': 'ử',\n",
        "    'ý': 'ỵ',\n",
        "    'ỳ': 'ỷ',\n",
        "    'ỷ': 'ỹ',\n",
        "    'ỹ': 'ý',\n",
        "    'ỵ': 'ỳ'\n",
        "}\n",
        "region2 = {\n",
        "    'b': 'p',\n",
        "    'c': 'k',\n",
        "    'd': 'đ',\n",
        "    'đ': 'd',\n",
        "    'g': 'gh',\n",
        "    'h': 'k',\n",
        "    'k': 'c',\n",
        "    'l': 'n',\n",
        "    'm': 'n',\n",
        "    'n': 'ng',\n",
        "    'p': 'b',\n",
        "    'q': 'k',\n",
        "    'r': 'd',\n",
        "    's': 'x',\n",
        "    't': 'th',\n",
        "    'v': 'f',\n",
        "    'x': 's',\n",
        "    'ch': 'tr',\n",
        "    'gh': 'g',\n",
        "    'kh': 'h',\n",
        "    'ng': 'n',\n",
        "    'ngh': 'ng',\n",
        "    'nh': 'n',\n",
        "    'ph': 'f',\n",
        "    'th': 't',\n",
        "    'tr': 'ch'\n",
        "}\n",
        "acronym = {\n",
        "    'Anh':'a',\n",
        "    'anh': 'a',\n",
        "    'chị': 'c',\n",
        "    'em': 'e',\n",
        "    'tôi': 't',\n",
        "    'bạn': 'bn',\n",
        "    'không': 'ko',\n",
        "    'được': 'dc',\n",
        "    'gì': 'j',\n",
        "    'biết': 'bt',\n",
        "    'rồi': 'r',\n",
        "    'vui': 'vv',\n",
        "    'buồn': 'b',\n",
        "    'và': 'vs',\n",
        "    'vì': 'v',\n",
        "    'như': 'n',\n",
        "    'điện thoại': 'dt',\n",
        "    'làm việc': 'lv',\n",
        "    'sinh nhật': 'sn',\n",
        "    'thế nào': 'tn',\n",
        "    'bao giờ': 'bg',\n",
        "    'nhất': '1',\n",
        "    'yêu': 'iu',\n",
        "    'không sao': 'ks',\n",
        "    'gia đình': 'gd',\n",
        "    'bạn bè': 'bb',\n",
        "    'giúp đỡ': 'gd',\n",
        "    'đi': 'đi',\n",
        "    'nhà': 'nhà',\n",
        "    'học': 'hc',\n",
        "    'người': 'ng',\n",
        "    'chưa': 'chưa',\n",
        "    'chuyện': 'ch',\n",
        "    'một': '1',\n",
        "    'rất': 'rất',\n",
        "    'với': 'vs'\n",
        "}\n",
        "\n",
        "print(acronym)\n",
        "print(typo)\n",
        "print(region)\n",
        "print(region2)"
      ]
    },
    {
      "cell_type": "code",
      "execution_count": null,
      "metadata": {
        "id": "T8jBw6C15Qpr",
        "colab": {
          "base_uri": "https://localhost:8080/"
        },
        "outputId": "9aa231ec-96d5-4d16-8b30-74b27e7ce49f"
      },
      "outputs": [
        {
          "output_type": "stream",
          "name": "stdout",
          "text": [
            "Requirement already satisfied: unidecode in /usr/local/lib/python3.10/dist-packages (1.3.8)\n"
          ]
        }
      ],
      "source": [
        "!pip install unidecode"
      ]
    },
    {
      "cell_type": "code",
      "execution_count": null,
      "metadata": {
        "id": "7XTd_owhLyhm"
      },
      "outputs": [],
      "source": [
        "import re\n",
        "import numpy as np\n",
        "from unidecode import unidecode\n",
        "\n",
        "def teen_code(sentence):\n",
        "  random = np.random.uniform(0,1,1)[0]\n",
        "  new_sentence= str(sentence)\n",
        "\n",
        "  if random >0.5:\n",
        "    for word in acronym.keys():\n",
        "      random2=np.random.uniform(0,1,1)[0]\n",
        "      if random2 < 0.5:\n",
        "        new_sentence=re.sub(word,acronym[word],new_sentence)\n",
        "    return new_sentence\n",
        "  else:\n",
        "    return sentence\n",
        "\n",
        "def add_noise(sentence):\n",
        "  sentence= teen_code(sentence)\n",
        "  noisy_sentence=''\n",
        "  i=0\n",
        "  while i < len(sentence):\n",
        "    if sentence[i] not in full_letters:\n",
        "      noisy_sentence += sentence[i]\n",
        "    else:\n",
        "      random = np.random.uniform(0,1,1)[0]\n",
        "      if random <=0.94:\n",
        "        noisy_sentence+= sentence[i]\n",
        "      elif random <=0.985:\n",
        "        if sentence[i] in typo.keys():\n",
        "          if sentence[i] in region.keys():\n",
        "            random2 = np.random.uniform(0,1,1)[0]\n",
        "            if random2 <=0.4:\n",
        "              noisy_sentence += typo[sentence[i]]\n",
        "            elif random2 <0.8:\n",
        "              noisy_sentence +=region[sentence[i]]\n",
        "            elif random2 <0.95:\n",
        "              noisy_sentence +=unidecode(sentence[i])\n",
        "            else:\n",
        "              noisy_sentence +=sentence[i]\n",
        "          else:\n",
        "            random3 = np.random.uniform(0,1,1)[0]\n",
        "            if random3 <= 0.6:\n",
        "              noisy_sentence += typo[sentence[i]]\n",
        "            elif random3 <0.9:\n",
        "              noisy_sentence +=unidecode(sentence[i])\n",
        "            else:\n",
        "              noisy_sentence += sentence[i]\n",
        "        elif i == 0 or sentence[i-1] not in full_letters:\n",
        "          random4=np.random.uniform(0,1,1)[0]\n",
        "          if random4 <=0.9:\n",
        "            if i < len(sentence) -1 and sentence[i] in region2.keys() and sentence[i+1] in vowel:\n",
        "              noisy_sentence+= region2[sentence[i]]\n",
        "            elif i < len(sentence) - 2 and sentence[i:i+2] in region2.keys() and sentence[i+2] in vowel:\n",
        "              noisy_sentence += region2[sentence[i:i+2]]\n",
        "              i+=1\n",
        "            else:\n",
        "              noisy_sentence += sentence[i]\n",
        "          else:\n",
        "            noisy_sentence += sentence[i]\n",
        "        else:\n",
        "          noisy_sentence += sentence[i]\n",
        "      else:\n",
        "        new_random = np.random.uniform(0,1,1)[0]\n",
        "        if new_random <= 0.33 and i != len(sentence) -1:\n",
        "          noisy_sentence += sentence[i+1]\n",
        "          noisy_sentence += sentence[i]\n",
        "          i+=1\n",
        "        else:\n",
        "          noisy_sentence +=sentence[i]\n",
        "\n",
        "    i += 1\n",
        "\n",
        "  return noisy_sentence"
      ]
    },
    {
      "cell_type": "code",
      "execution_count": null,
      "metadata": {
        "id": "BdamqS65nCp4",
        "colab": {
          "base_uri": "https://localhost:8080/",
          "height": 35
        },
        "outputId": "533c9fdc-5bce-4274-dc65-83d6565b31f3"
      },
      "outputs": [
        {
          "output_type": "execute_result",
          "data": {
            "text/plain": [
              "'Tôi tên là ABCXYZ'"
            ],
            "application/vnd.google.colaboratory.intrinsic+json": {
              "type": "string"
            }
          },
          "metadata": {},
          "execution_count": 7
        }
      ],
      "source": [
        "add_noise('Tôi tên là ABCXYZ')"
      ]
    },
    {
      "cell_type": "code",
      "execution_count": null,
      "metadata": {
        "id": "GNx4zUJSnv8M",
        "colab": {
          "base_uri": "https://localhost:8080/"
        },
        "outputId": "2341d183-c414-46bf-ec04-547ad428ebd1"
      },
      "outputs": [
        {
          "output_type": "stream",
          "name": "stdout",
          "text": [
            "190\n",
            "['\\x00', ' ', '0', '1', '2', '3', '4', '5', '6', '7', '8', '9', 'a', 'ă', 'â', 'e', 'ê', 'i', 'o', 'ô', 'ơ', 'u', 'ư', 'y', 'A', 'Ă', 'Â', 'E', 'Ê', 'I', 'O', 'Ô', 'Ơ', 'U', 'Ư', 'Y', 'á', 'à', 'ả', 'ã', 'ạ', 'ắ', 'ằ', 'ẳ', 'ẵ', 'ặ', 'ấ', 'ầ', 'ẩ', 'ẫ', 'ậ', 'é', 'è', 'ẻ', 'ẽ', 'ẹ', 'ế', 'ề', 'ể', 'ễ', 'ệ', 'í', 'ì', 'ỉ', 'ĩ', 'ị', 'ó', 'ò', 'ỏ', 'õ', 'ọ', 'ố', 'ồ', 'ổ', 'ỗ', 'ộ', 'ớ', 'ờ', 'ở', 'ỡ', 'ợ', 'ú', 'ù', 'ủ', 'ũ', 'ụ', 'ứ', 'ừ', 'ử', 'ữ', 'ự', 'ý', 'ỳ', 'ỷ', 'ỹ', 'ỵ', 'Á', 'À', 'Ả', 'Ã', 'Ạ', 'Ắ', 'Ằ', 'Ẳ', 'Ẵ', 'Ặ', 'Ấ', 'Ầ', 'Ẩ', 'Ẫ', 'Ậ', 'É', 'È', 'Ẻ', 'Ẽ', 'Ẹ', 'Ế', 'Ề', 'Ể', 'Ễ', 'Ệ', 'Í', 'Ì', 'Ỉ', 'Ĩ', 'Ị', 'Ó', 'Ò', 'Ỏ', 'Õ', 'Ọ', 'Ố', 'Ồ', 'Ổ', 'Ỗ', 'Ộ', 'Ớ', 'Ờ', 'Ở', 'Ỡ', 'Ợ', 'Ú', 'Ù', 'Ủ', 'Ũ', 'Ụ', 'Ứ', 'Ừ', 'Ử', 'Ữ', 'Ự', 'Ý', 'Ỳ', 'Ỷ', 'Ỹ', 'Ỵ', 'b', 'c', 'd', 'đ', 'g', 'h', 'k', 'l', 'm', 'n', 'p', 'q', 'r', 's', 't', 'v', 'x', 'B', 'C', 'D', 'Đ', 'G', 'H', 'K', 'L', 'M', 'N', 'P', 'Q', 'R', 'S', 'T', 'V', 'X']\n"
          ]
        }
      ],
      "source": [
        "alphabet = ['\\x00',' '] + list('0123456789') + full_letters\n",
        "print(len(alphabet))\n",
        "print(alphabet)"
      ]
    },
    {
      "cell_type": "code",
      "source": [],
      "metadata": {
        "id": "c2Upyg_p2Ncm"
      },
      "execution_count": null,
      "outputs": []
    },
    {
      "cell_type": "code",
      "execution_count": null,
      "metadata": {
        "id": "7AlL1ZL7oNmW",
        "colab": {
          "base_uri": "https://localhost:8080/"
        },
        "outputId": "ed054425-4613-44bb-d308-0e78c56840ad"
      },
      "outputs": [
        {
          "output_type": "stream",
          "name": "stdout",
          "text": [
            "36575\n"
          ]
        },
        {
          "output_type": "execute_result",
          "data": {
            "text/plain": [
              "['Cuối cùng',\n",
              " 'cô thông báo quyết định theo quốc tịch Nhật vào tháng 11',\n",
              " 'phần lớn vì lợi thế từ hộ chiếu quê bố và hoàn thành thủ tục vào đầu 2022',\n",
              " 'Doanh số bán nhà hiện hữu có thể chững lại',\n",
              " 'hoặc thậm chí giảm xuống một chút trong vài tháng tới',\n",
              " 'ông dự báo',\n",
              " 'Giá điện cao buộc kỹ sư Thụy Điển đưa ra giải pháp sáng tạo để sưởi ấm nhà cửa',\n",
              " 'Người đẹp trải qua cuộc hôn nhân với tài tử Tạ Đình Phong',\n",
              " 'có hai con trai',\n",
              " 'Việc này khiến cuộc chiến chống lạm phát của ed kéo dài hơn dự kiến']"
            ]
          },
          "metadata": {},
          "execution_count": 9
        }
      ],
      "source": [
        "phrases= []\n",
        "\n",
        "for text in data:\n",
        "  for c in set(text):\n",
        "    if re.match('\\w',c) and c not in alphabet:\n",
        "      uc = unidecode(c)\n",
        "      if re.match('\\w',uc) and uc not in alphabet:\n",
        "        text = re.sub(c, '', text)\n",
        "      else:\n",
        "        text = re.sub(c, uc, text)\n",
        "  phrases += re.findall(r'\\w[\\w\\s]+', text)\n",
        "\n",
        "phrases = [p.strip() for p in phrases if len(p.split()) > 1]\n",
        "\n",
        "print(len(phrases))\n",
        "phrases[-10:]"
      ]
    },
    {
      "cell_type": "code",
      "execution_count": null,
      "metadata": {
        "id": "mU8MldV2JHpy",
        "colab": {
          "base_uri": "https://localhost:8080/"
        },
        "outputId": "bc60f171-fabe-4b0e-bbf7-d6735a3d35f1"
      },
      "outputs": [
        {
          "output_type": "stream",
          "name": "stdout",
          "text": [
            "Requirement already satisfied: nltk in /usr/local/lib/python3.10/dist-packages (3.8.1)\n",
            "Requirement already satisfied: click in /usr/local/lib/python3.10/dist-packages (from nltk) (8.1.7)\n",
            "Requirement already satisfied: joblib in /usr/local/lib/python3.10/dist-packages (from nltk) (1.4.2)\n",
            "Requirement already satisfied: regex>=2021.8.3 in /usr/local/lib/python3.10/dist-packages (from nltk) (2024.5.15)\n",
            "Requirement already satisfied: tqdm in /usr/local/lib/python3.10/dist-packages (from nltk) (4.66.4)\n"
          ]
        }
      ],
      "source": [
        "!pip install  --upgrade nltk"
      ]
    },
    {
      "cell_type": "code",
      "execution_count": null,
      "metadata": {
        "id": "FzWWlS0tJLOe",
        "colab": {
          "base_uri": "https://localhost:8080/"
        },
        "outputId": "198f998b-ea38-44d6-86e1-822f15107bd4"
      },
      "outputs": [
        {
          "output_type": "stream",
          "name": "stdout",
          "text": [
            "201222\n"
          ]
        },
        {
          "output_type": "execute_result",
          "data": {
            "text/plain": [
              "['Và thế là chúng tôi',\n",
              " 'thế là chúng tôi ngồi',\n",
              " 'là chúng tôi ngồi đợi',\n",
              " 'chúng tôi ngồi đợi cậu',\n",
              " 'tôi ngồi đợi cậu ấy',\n",
              " 'ngồi đợi cậu ấy đến',\n",
              " 'Chóng mặt kịch phát tư',\n",
              " 'mặt kịch phát tư thế',\n",
              " 'kịch phát tư thế lành',\n",
              " 'phát tư thế lành tính']"
            ]
          },
          "metadata": {},
          "execution_count": 11
        }
      ],
      "source": [
        "from nltk import ngrams\n",
        "\n",
        "NGRAM=5\n",
        "MAXLEN=39\n",
        "\n",
        "list_ngrams=[]\n",
        "for p in phrases:\n",
        "  list_p=p.split()\n",
        "  if(len(list_p) >= NGRAM):\n",
        "    for ngr in ngrams(p.split(),NGRAM):\n",
        "      if len(' '.join(ngr)) <= MAXLEN:\n",
        "        list_ngrams.append(' '.join(ngr))\n",
        "  elif len(' '.join(list_p)) <= MAXLEN:\n",
        "    list_ngrams.append(' '.join(list_p))\n",
        "\n",
        "list_ngrams = list((list_ngrams))\n",
        "print(len(list_ngrams))\n",
        "list_ngrams[:10]"
      ]
    },
    {
      "cell_type": "code",
      "execution_count": null,
      "metadata": {
        "id": "JiwcRMSWLuWs"
      },
      "outputs": [],
      "source": [
        "def encoder_data(text):\n",
        "  x=np.zeros((MAXLEN, len(alphabet)))\n",
        "  for i, c in enumerate(text[:MAXLEN]):\n",
        "    if c not in alphabet:\n",
        "      continue\n",
        "    x[i,alphabet.index(c)] = 1\n",
        "  if i < MAXLEN -1:\n",
        "    for j in range(i+1,MAXLEN):\n",
        "      x[j,0] =1\n",
        "  return x\n",
        "\n",
        "def decoder_data(x):\n",
        "  x=x.argmax(axis=-1)\n",
        "  return ''.join(alphabet[i] for i in x)"
      ]
    },
    {
      "cell_type": "code",
      "execution_count": null,
      "metadata": {
        "id": "BdBnf3LAM_nv",
        "colab": {
          "base_uri": "https://localhost:8080/"
        },
        "outputId": "4c4b34e2-296a-4456-f8b4-0c99d05f20c5"
      },
      "outputs": [
        {
          "output_type": "stream",
          "name": "stdout",
          "text": [
            "(39, 190)\n",
            "tôi tên là Nguyễn Văn ABC\u0000\u0000\u0000\u0000\u0000\u0000\u0000\u0000\u0000\u0000\u0000\u0000\u0000\u0000\n"
          ]
        }
      ],
      "source": [
        "print(encoder_data('tôi tên là Nguyễn Văn ABC').shape)\n",
        "print(decoder_data(encoder_data('tôi tên là Nguyễn Văn ABC')))"
      ]
    },
    {
      "cell_type": "code",
      "execution_count": null,
      "metadata": {
        "id": "XtUszbo7Nf0_"
      },
      "outputs": [],
      "source": [
        "from keras.models import Sequential\n",
        "from keras.layers import Activation, TimeDistributed, Dense, LSTM, Bidirectional\n",
        "from tensorflow.keras.optimizers import Adam\n",
        "import tensorflow as tf"
      ]
    },
    {
      "cell_type": "code",
      "execution_count": null,
      "metadata": {
        "id": "37U4VJmBWNLV",
        "colab": {
          "base_uri": "https://localhost:8080/"
        },
        "outputId": "05be27f9-70d7-4e00-b7f2-1c8fdae1e5f8"
      },
      "outputs": [
        {
          "output_type": "stream",
          "name": "stdout",
          "text": [
            "[[0. 0. 0. ... 0. 0. 0.]\n",
            " [0. 0. 0. ... 0. 0. 0.]\n",
            " [0. 0. 0. ... 0. 0. 0.]\n",
            " ...\n",
            " [1. 0. 0. ... 0. 0. 0.]\n",
            " [1. 0. 0. ... 0. 0. 0.]\n",
            " [1. 0. 0. ... 0. 0. 0.]]\n"
          ]
        }
      ],
      "source": [
        "print(encoder_data('tôi tên là Nguyễn Văn ABC'))"
      ]
    },
    {
      "cell_type": "code",
      "source": [
        "import keras\n",
        "\n",
        "from keras import layers\n",
        "class TransformerBlock(layers.Layer):\n",
        "    def __init__(self, batch_size,embed_dim, num_heads, ff_dim, rate=0.1):\n",
        "        super().__init__()\n",
        "        self.att = layers.MultiHeadAttention(batch_size=batch_size,num_heads=num_heads, key_dim=embed_dim)\n",
        "        self.ffn = keras.Sequential(\n",
        "            [layers.Dense(ff_dim, activation=\"relu\"), layers.Dense(embed_dim),]\n",
        "        )\n",
        "        self.layernorm1 = layers.LayerNormalization(epsilon=1e-6)\n",
        "        self.layernorm2 = layers.LayerNormalization(epsilon=1e-6)\n",
        "        self.dropout1 = layers.Dropout(rate)\n",
        "        self.dropout2 = layers.Dropout(rate)\n",
        "\n",
        "    def call(self, inputs):\n",
        "        attn_output = self.att(inputs, inputs)\n",
        "        attn_output = self.dropout1(attn_output)\n",
        "        out1 = self.layernorm1(inputs + attn_output)\n",
        "        ffn_output = self.ffn(out1)\n",
        "        ffn_output = self.dropout2(ffn_output)\n",
        "        return self.layernorm2(out1 + ffn_output)"
      ],
      "metadata": {
        "id": "YfATaR4ZAF-t"
      },
      "execution_count": null,
      "outputs": []
    },
    {
      "cell_type": "code",
      "source": [
        "from sklearn.model_selection import train_test_split\n",
        "train_data, valid_data = train_test_split(list_ngrams,test_size=0.2,random_state=42)"
      ],
      "metadata": {
        "id": "bIZqjM-9JSnj"
      },
      "execution_count": null,
      "outputs": []
    },
    {
      "cell_type": "code",
      "source": [
        "print(np.array(train_data).shape)"
      ],
      "metadata": {
        "colab": {
          "base_uri": "https://localhost:8080/"
        },
        "id": "B6paFBqEQJX7",
        "outputId": "c04d1c7b-543b-42b3-d237-3ff6a226e339"
      },
      "execution_count": null,
      "outputs": [
        {
          "output_type": "stream",
          "name": "stdout",
          "text": [
            "(160977,)\n"
          ]
        }
      ]
    },
    {
      "cell_type": "code",
      "source": [
        "batch_size=1\n",
        "current_index = 0\n",
        "x,y=[],[]\n",
        "while True:\n",
        "  y.append(encoder_data(train_data[current_index]))\n",
        "  x.append(encoder_data(add_noise(add_noise(train_data[current_index]))))\n",
        "  current_index +=1\n",
        "  # print('{}/{}'.format(current_index,len(data) -1000))\n",
        "  if current_index > len(data) -1000:\n",
        "    current_index =0\n",
        "    break"
      ],
      "metadata": {
        "id": "YDNm5fwsIanX"
      },
      "execution_count": null,
      "outputs": []
    },
    {
      "cell_type": "code",
      "source": [
        "print(np.array(x).shape)"
      ],
      "metadata": {
        "colab": {
          "base_uri": "https://localhost:8080/"
        },
        "id": "qmyf4iZnQbaN",
        "outputId": "1cbe53af-2703-4913-ab27-5efb8dfa42cf"
      },
      "execution_count": null,
      "outputs": [
        {
          "output_type": "stream",
          "name": "stdout",
          "text": [
            "(12174, 39, 190)\n"
          ]
        }
      ]
    },
    {
      "cell_type": "code",
      "source": [
        "x_train=np.array(x)[:-6000]\n",
        "y_train=np.array(y)[:-6000]\n",
        "x_test=np.array(x)[-6000:-4000]\n",
        "y_test=np.array(y)[-6000:-4000]\n",
        "x_val=np.array(x)[-4000:]\n",
        "y_val=np.array(y)[-4000:]\n",
        "\n"
      ],
      "metadata": {
        "id": "kpfoA5VEJ0iB"
      },
      "execution_count": null,
      "outputs": []
    },
    {
      "cell_type": "code",
      "source": [
        "def decoder_data(x):\n",
        "  x_new=np.zeros((x.shape[0],x.shape[1]))\n",
        "  for i in range(x.shape[0]):\n",
        "    x_new[i,np.argmax(x[i,:])]=1\n",
        "  x_arg=x_new.argmax(axis=-1)\n",
        "  return ''.join(alphabet[i] for i in x_arg)"
      ],
      "metadata": {
        "id": "tp4mcpY4MS4z"
      },
      "execution_count": null,
      "outputs": []
    },
    {
      "cell_type": "code",
      "source": [
        "print(x_train[1].shape)"
      ],
      "metadata": {
        "colab": {
          "base_uri": "https://localhost:8080/"
        },
        "id": "tG1BKp3fNOlp",
        "outputId": "bf392399-6f5c-4446-9036-5df8a9a05b7c"
      },
      "execution_count": null,
      "outputs": [
        {
          "output_type": "stream",
          "name": "stdout",
          "text": [
            "(39, 190)\n"
          ]
        }
      ]
    },
    {
      "cell_type": "code",
      "source": [
        "from keras.models import Sequential\n",
        "from keras.layers import Activation, TimeDistributed, Dense, LSTM, Bidirectional\n",
        "from tensorflow.keras.optimizers import Adam\n",
        "import tensorflow as tf"
      ],
      "metadata": {
        "id": "VIiq0HffuTzY"
      },
      "execution_count": null,
      "outputs": []
    },
    {
      "cell_type": "code",
      "source": [
        "class TransformerBlock(layers.Layer):\n",
        "    def __init__(self, maxlen,embed_dim, num_heads, ff_dim, rate=0.1):\n",
        "        super(TransformerBlock, self).__init__()\n",
        "        self.att = layers.MultiHeadAttention(value_dim=maxlen,num_heads=num_heads, key_dim=embed_dim)\n",
        "        self.ffn = keras.Sequential(\n",
        "            [layers.Dense(ff_dim, activation=\"relu\"), layers.Dense(embed_dim),]\n",
        "        )\n",
        "        self.layernorm1 = layers.LayerNormalization(epsilon=1e-6)\n",
        "        self.layernorm2 = layers.LayerNormalization(epsilon=1e-6)\n",
        "        self.dropout1 = layers.Dropout(rate)\n",
        "        self.dropout2 = layers.Dropout(rate)\n",
        "\n",
        "    def call(self, inputs, training):\n",
        "        attn_output = self.att(inputs, inputs)\n",
        "        attn_output = self.dropout1(attn_output, training=training)\n",
        "        out1 = self.layernorm1(inputs + attn_output)\n",
        "        ffn_output = self.ffn(out1)\n",
        "        ffn_output = self.dropout2(ffn_output, training=training)\n",
        "        return self.layernorm2(out1 + ffn_output)"
      ],
      "metadata": {
        "id": "F-XVfkOcHzeM"
      },
      "execution_count": null,
      "outputs": []
    },
    {
      "cell_type": "code",
      "source": [
        "from keras import layers\n",
        "from keras.models import Model\n",
        "\n",
        "embed_dim = 190  # Embedding size for each token\n",
        "num_heads = 10  # Number of attention heads\n",
        "ff_dim = 39  # Hidden layer size in feed forward network inside transformer\n",
        "batch_size=512\n",
        "# Define input layer\n",
        "inputs = layers.Input(shape=(39, embed_dim))\n",
        "x = layers.Reshape((39, 190))(inputs)\n",
        "# Transformer block\n",
        "transformer_block = TransformerBlock(maxlen=39,embed_dim=190, num_heads=10, ff_dim=39)\n",
        "x = transformer_block(inputs)\n",
        "model = Model(inputs=inputs, outputs=x)\n",
        "\n"
      ],
      "metadata": {
        "id": "y4fAtOBzKi1C"
      },
      "execution_count": null,
      "outputs": []
    },
    {
      "cell_type": "code",
      "source": [
        "y_train.shape"
      ],
      "metadata": {
        "id": "G_1FxwACKWv4",
        "colab": {
          "base_uri": "https://localhost:8080/"
        },
        "outputId": "b899fa0d-276a-404e-f632-cacc548f8fd3"
      },
      "execution_count": null,
      "outputs": [
        {
          "output_type": "execute_result",
          "data": {
            "text/plain": [
              "(6174, 39, 190)"
            ]
          },
          "metadata": {},
          "execution_count": 27
        }
      ]
    },
    {
      "cell_type": "code",
      "source": [
        "def to_sparse_tensor(tensor):\n",
        "    indices = tf.where(tf.not_equal(tensor, \"\"))\n",
        "    values = tf.gather_nd(tensor, indices)\n",
        "    shape = tf.cast(tensor.bounding_shape(), tf.int64)\n",
        "    return tf.SparseTensor(indices, values, shape)\n",
        "\n",
        "def cer(y_true, y_pred):\n",
        "\n",
        "    y_true = tf.strings.reduce_join(tf.strings.as_string(y_true), axis=1)\n",
        "    y_pred = tf.strings.reduce_join(tf.strings.as_string(y_pred), axis=1)\n",
        "\n",
        "\n",
        "    y_true_chars = tf.strings.unicode_split(y_true, 'UTF-8')\n",
        "    y_pred_chars = tf.strings.unicode_split(y_pred, 'UTF-8')\n",
        "\n",
        "\n",
        "    y_true_sparse = to_sparse_tensor(y_true_chars)\n",
        "    y_pred_sparse = to_sparse_tensor(y_pred_chars)\n",
        "\n",
        "    distance = tf.edit_distance(y_pred_sparse, y_true_sparse, normalize=False)\n",
        "\n",
        "    cer_value = tf.reduce_mean(distance / tf.cast(tf.strings.length(y_true), tf.float32))\n",
        "    return cer_value\n",
        "\n",
        "def accuracy_cer(y_true, y_pred):\n",
        "    return tf.cast(1-cer(y_true, y_pred), tf.float32)\n"
      ],
      "metadata": {
        "id": "aCMdXlEqLWej"
      },
      "execution_count": null,
      "outputs": []
    },
    {
      "cell_type": "code",
      "source": [
        "model.compile(loss='categorical_crossentropy',optimizer=Adam(learning_rate=0.001), metrics=[accuracy_cer])\n",
        "\n",
        "# Train the model\n",
        "history = model.fit(x_train, y_train, epochs=3, validation_data=(x_val, y_val))\n"
      ],
      "metadata": {
        "colab": {
          "base_uri": "https://localhost:8080/"
        },
        "id": "btiT7QezKD5r",
        "outputId": "589d50ba-a8eb-43be-dd6a-63815b9b59ac"
      },
      "execution_count": null,
      "outputs": [
        {
          "output_type": "stream",
          "name": "stdout",
          "text": [
            "Epoch 1/3\n",
            "193/193 [==============================] - 3393s 18s/step - loss: 11.7985 - accuracy_cer: 0.2293 - val_loss: 15.8152 - val_accuracy_cer: 0.2200\n",
            "Epoch 2/3\n",
            "193/193 [==============================] - 3381s 18s/step - loss: 9.8160 - accuracy_cer: 0.2278 - val_loss: 15.7683 - val_accuracy_cer: 0.2201\n",
            "Epoch 3/3\n",
            "193/193 [==============================] - 3382s 18s/step - loss: 10.7576 - accuracy_cer: 0.2286 - val_loss: 15.7994 - val_accuracy_cer: 0.2226\n"
          ]
        }
      ]
    },
    {
      "cell_type": "code",
      "source": [
        "loss, accuracy = model.evaluate(x_test, y_test)\n",
        "\n",
        "# Print the evaluation results\n",
        "print(\"Test Loss:\", loss)\n",
        "print(\"Test Accuracy:\", accuracy)"
      ],
      "metadata": {
        "colab": {
          "base_uri": "https://localhost:8080/"
        },
        "id": "op-DVsER_Zip",
        "outputId": "3c9b3398-b8bc-4acd-e58c-20b46c5e7cd5"
      },
      "execution_count": null,
      "outputs": [
        {
          "output_type": "stream",
          "name": "stdout",
          "text": [
            "63/63 [==============================] - 662s 11s/step - loss: 15.8007 - accuracy_cer: 0.2225\n",
            "Test Loss: 15.800701141357422\n",
            "Test Accuracy: 0.22250331938266754\n"
          ]
        }
      ]
    },
    {
      "cell_type": "code",
      "source": [
        "sentence='thế là chúng tôi ngồi đos'\n",
        "input=np.array([encoder_data(sentence)])"
      ],
      "metadata": {
        "id": "rCaVxB5qA_0R"
      },
      "execution_count": null,
      "outputs": []
    },
    {
      "cell_type": "code",
      "source": [
        "np.array(input).shape"
      ],
      "metadata": {
        "colab": {
          "base_uri": "https://localhost:8080/"
        },
        "id": "kq1AvkxrBPQI",
        "outputId": "e637741b-1246-42b6-c391-fa6b61902b7a"
      },
      "execution_count": null,
      "outputs": [
        {
          "output_type": "execute_result",
          "data": {
            "text/plain": [
              "(1, 39, 190)"
            ]
          },
          "metadata": {},
          "execution_count": 56
        }
      ]
    },
    {
      "cell_type": "code",
      "source": [
        "y_pred=model.predict(input)"
      ],
      "metadata": {
        "colab": {
          "base_uri": "https://localhost:8080/"
        },
        "id": "w9b09HdRA6Yo",
        "outputId": "708df915-5909-470b-c115-cb5d4ce11691"
      },
      "execution_count": null,
      "outputs": [
        {
          "output_type": "stream",
          "name": "stdout",
          "text": [
            "1/1 [==============================] - 0s 251ms/step\n"
          ]
        }
      ]
    },
    {
      "cell_type": "code",
      "source": [
        "y_pred.shape"
      ],
      "metadata": {
        "colab": {
          "base_uri": "https://localhost:8080/"
        },
        "id": "zpaTOV60B9kb",
        "outputId": "0f4a3867-6060-4da5-b9a8-6aa14a19dddd"
      },
      "execution_count": null,
      "outputs": [
        {
          "output_type": "execute_result",
          "data": {
            "text/plain": [
              "(1, 39, 190)"
            ]
          },
          "metadata": {},
          "execution_count": 58
        }
      ]
    },
    {
      "cell_type": "code",
      "source": [
        "def decoder_data(x):\n",
        "  x_new=np.zeros((x.shape[1],x.shape[2]))\n",
        "  for i in range(x.shape[1]):\n",
        "    x_new[i,np.argmax(x[:,i,:])]=1\n",
        "  x_arg=x_new.argmax(axis=-1)\n",
        "  return ''.join(alphabet[i] for i in x_arg)"
      ],
      "metadata": {
        "id": "_0eRbGWKCLaX"
      },
      "execution_count": null,
      "outputs": []
    },
    {
      "cell_type": "code",
      "source": [
        "decoder_data(y_pred)"
      ],
      "metadata": {
        "colab": {
          "base_uri": "https://localhost:8080/",
          "height": 35
        },
        "id": "A2SDDWWyCAEy",
        "outputId": "6ce73b1a-6422-44a8-ab0a-62270d947ddc"
      },
      "execution_count": null,
      "outputs": [
        {
          "output_type": "execute_result",
          "data": {
            "text/plain": [
              "'thế là chúng tôi ngồi đos\\x00\\x00\\x00\\x00\\x00\\x00\\x00\\x00\\x00\\x00\\x00\\x00\\x00\\x00'"
            ],
            "application/vnd.google.colaboratory.intrinsic+json": {
              "type": "string"
            }
          },
          "metadata": {},
          "execution_count": 60
        }
      ]
    },
    {
      "cell_type": "code",
      "source": [
        "import matplotlib.pyplot as plt\n",
        "accuracy = history.history['accuracy_cer']\n",
        "loss = history.history['loss']\n",
        "val_accuracy = history.history['val_accuracy_cer']\n",
        "val_loss = history.history['val_loss']\n",
        "\n",
        "# Vẽ biểu đồ Accuracy\n",
        "plt.plot(accuracy, label='Training Accuracy')\n",
        "plt.plot(val_accuracy, label='Validation Accuracy')\n",
        "plt.title('Training and Validation Accuracy')\n",
        "plt.xlabel('Epoch')\n",
        "plt.ylabel('Accuracy')\n",
        "plt.legend()\n",
        "plt.show()\n",
        "\n",
        "# Vẽ biểu đồ Loss\n",
        "plt.plot(loss, label='Training Loss')\n",
        "plt.plot(val_loss, label='Validation Loss')\n",
        "plt.title('Training and Validation Loss')\n",
        "plt.xlabel('Epoch')\n",
        "plt.ylabel('Loss')\n",
        "plt.legend()\n",
        "plt.show()"
      ],
      "metadata": {
        "colab": {
          "base_uri": "https://localhost:8080/",
          "height": 927
        },
        "id": "LBYvf3oi-vgE",
        "outputId": "d73a350f-5616-4fda-f5ed-f3037368b825"
      },
      "execution_count": null,
      "outputs": [
        {
          "output_type": "display_data",
          "data": {
            "text/plain": [
              "<Figure size 640x480 with 1 Axes>"
            ],
            "image/png": "[encoded data removed]"
          },
          "metadata": {}
        },
        {
          "output_type": "display_data",
          "data": {
            "text/plain": [
              "<Figure size 640x480 with 1 Axes>"
            ],
            "image/png": "[encoded data removed]"
          },
          "metadata": {}
        }
      ]
    },
    {
      "cell_type": "code",
      "source": [
        "from nltk import ngrams\n",
        "\n",
        "NGRAM=5\n",
        "MAXLEN=39\n",
        "\n",
        "list_ngrams=[]\n",
        "for p in phrases:\n",
        "  list_p=p.split()\n",
        "  if(len(list_p) >= NGRAM):\n",
        "    for ngr in ngrams(p.split(),NGRAM):\n",
        "      if len(' '.join(ngr)) <= MAXLEN:\n",
        "        list_ngrams.append(' '.join(ngr))\n",
        "  elif len(' '.join(list_p)) <= MAXLEN:\n",
        "    list_ngrams.append(' '.join(list_p))\n",
        "\n",
        "list_ngrams = list((list_ngrams))\n",
        "print(len(list_ngrams))\n",
        "list_ngrams[:10]"
      ],
      "metadata": {
        "colab": {
          "base_uri": "https://localhost:8080/"
        },
        "id": "3eSM7QJcQCmk",
        "outputId": "94338c1f-595a-43b1-8a7b-acc11748a6de"
      },
      "execution_count": null,
      "outputs": [
        {
          "output_type": "stream",
          "name": "stdout",
          "text": [
            "201222\n"
          ]
        },
        {
          "output_type": "execute_result",
          "data": {
            "text/plain": [
              "['Và thế là chúng tôi',\n",
              " 'thế là chúng tôi ngồi',\n",
              " 'là chúng tôi ngồi đợi',\n",
              " 'chúng tôi ngồi đợi cậu',\n",
              " 'tôi ngồi đợi cậu ấy',\n",
              " 'ngồi đợi cậu ấy đến',\n",
              " 'Chóng mặt kịch phát tư',\n",
              " 'mặt kịch phát tư thế',\n",
              " 'kịch phát tư thế lành',\n",
              " 'phát tư thế lành tính']"
            ]
          },
          "metadata": {},
          "execution_count": 63
        }
      ]
    },
    {
      "cell_type": "code",
      "source": [
        "from keras.models import Sequential\n",
        "from keras.layers import Activation, TimeDistributed, Dense, LSTM, Bidirectional\n",
        "from tensorflow.keras.optimizers import Adam\n",
        "import tensorflow as tf"
      ],
      "metadata": {
        "id": "yhzouh47QCEi"
      },
      "execution_count": null,
      "outputs": []
    },
    {
      "cell_type": "code",
      "source": [
        "def encoder_data(text):\n",
        "  x=np.zeros((MAXLEN, len(alphabet)))\n",
        "  for i, c in enumerate(text[:MAXLEN]):\n",
        "    if c not in alphabet:\n",
        "      continue\n",
        "    x[i,alphabet.index(c)] = 1\n",
        "  if i < MAXLEN -1:\n",
        "    for j in range(i+1,MAXLEN):\n",
        "      x[j,0] =1\n",
        "  return x\n",
        "\n",
        "def decoder_data(x):\n",
        "  x=x.argmax(axis=-1)\n",
        "  return ''.join(alphabet[i] for i in x)"
      ],
      "metadata": {
        "id": "aoE-07oEJDuJ"
      },
      "execution_count": null,
      "outputs": []
    },
    {
      "cell_type": "code",
      "execution_count": null,
      "metadata": {
        "id": "x-Ah2qWbiYWd"
      },
      "outputs": [],
      "source": [
        "encoder = LSTM(256,input_shape =(MAXLEN,len(alphabet)),return_sequences=True)"
      ]
    },
    {
      "cell_type": "code",
      "execution_count": null,
      "metadata": {
        "id": "NKf4IH6Kimlu"
      },
      "outputs": [],
      "source": [
        "decoder= Bidirectional(LSTM(256,return_sequences=True,dropout=0.2))"
      ]
    },
    {
      "cell_type": "code",
      "execution_count": null,
      "metadata": {
        "id": "BYE5EzUhiwhG",
        "colab": {
          "base_uri": "https://localhost:8080/"
        },
        "outputId": "a8721551-fa40-4ac1-ffe1-c3c01711e379"
      },
      "outputs": [
        {
          "output_type": "stream",
          "name": "stdout",
          "text": [
            "Model: \"sequential_1\"\n",
            "_________________________________________________________________\n",
            " Layer (type)                Output Shape              Param #   \n",
            "=================================================================\n",
            " lstm (LSTM)                 (None, 39, 256)           457728    \n",
            "                                                                 \n",
            " bidirectional (Bidirection  (None, 39, 512)           1050624   \n",
            " al)                                                             \n",
            "                                                                 \n",
            " time_distributed (TimeDist  (None, 39, 256)           131328    \n",
            " ributed)                                                        \n",
            "                                                                 \n",
            " activation (Activation)     (None, 39, 256)           0         \n",
            "                                                                 \n",
            " time_distributed_1 (TimeDi  (None, 39, 190)           48830     \n",
            " stributed)                                                      \n",
            "                                                                 \n",
            " activation_1 (Activation)   (None, 39, 190)           0         \n",
            "                                                                 \n",
            "=================================================================\n",
            "Total params: 1688510 (6.44 MB)\n",
            "Trainable params: 1688510 (6.44 MB)\n",
            "Non-trainable params: 0 (0.00 Byte)\n",
            "_________________________________________________________________\n"
          ]
        }
      ],
      "source": [
        "models = Sequential()\n",
        "models.add(encoder)\n",
        "models.add(decoder)\n",
        "models.add(TimeDistributed(Dense(256)))\n",
        "models.add(Activation('relu'))\n",
        "models.add(TimeDistributed(Dense(len(alphabet))))\n",
        "models.add(Activation('softmax'))\n",
        "\n",
        "models.compile(loss='categorical_crossentropy',optimizer=Adam(learning_rate=0.001),metrics=['accuracy'])\n",
        "\n",
        "models.summary()"
      ]
    },
    {
      "cell_type": "code",
      "execution_count": null,
      "metadata": {
        "id": "gDR9W8WQkUfa",
        "colab": {
          "base_uri": "https://localhost:8080/",
          "height": 661
        },
        "outputId": "85f7478d-61c7-48d6-a085-bfb44da88658"
      },
      "outputs": [
        {
          "output_type": "execute_result",
          "data": {
            "image/png": "[encoded data removed]",
            "text/plain": [
              "<IPython.core.display.Image object>"
            ]
          },
          "metadata": {},
          "execution_count": 69
        }
      ],
      "source": [
        "from tensorflow.keras.utils import plot_model\n",
        "plot_model(models,to_file='model.png')"
      ]
    },
    {
      "cell_type": "code",
      "execution_count": null,
      "metadata": {
        "id": "xXjmZVIAkgAE"
      },
      "outputs": [],
      "source": [
        "from sklearn.model_selection import train_test_split\n",
        "train_data, valid_data = train_test_split(list_ngrams,test_size=0.2,random_state=42)"
      ]
    },
    {
      "cell_type": "code",
      "execution_count": null,
      "metadata": {
        "id": "T41808V2k3yN"
      },
      "outputs": [],
      "source": [
        "BATCH_SIZE = 512\n",
        "EPOCHS =2"
      ]
    },
    {
      "cell_type": "code",
      "source": [
        "def generate_data(data,batch_size):\n",
        "  current_index = 0\n",
        "  while True:\n",
        "    x,y=[],[]\n",
        "    for i in range(batch_size):\n",
        "      y.append(encoder_data(data[current_index]))\n",
        "      x.append(encoder_data(add_noise(data[current_index])))\n",
        "      current_index +=1\n",
        "      if current_index > len(data) -1:\n",
        "        current_index =0\n",
        "    yield(np.array(x),np.array(y))"
      ],
      "metadata": {
        "id": "xVShmuFxOrFD"
      },
      "execution_count": null,
      "outputs": []
    },
    {
      "cell_type": "code",
      "execution_count": null,
      "metadata": {
        "id": "dH_m5MzmzsXJ"
      },
      "outputs": [],
      "source": [
        "train_generator = generate_data(train_data,batch_size=BATCH_SIZE)\n",
        "validation_generator = generate_data(valid_data,batch_size=BATCH_SIZE)"
      ]
    },
    {
      "cell_type": "code",
      "source": [
        "2**9"
      ],
      "metadata": {
        "colab": {
          "base_uri": "https://localhost:8080/"
        },
        "id": "-_JAcafsRlrS",
        "outputId": "29ee0336-b1c5-4d91-8fc0-7e5fde4ad608"
      },
      "execution_count": null,
      "outputs": [
        {
          "output_type": "execute_result",
          "data": {
            "text/plain": [
              "512"
            ]
          },
          "metadata": {},
          "execution_count": 74
        }
      ]
    },
    {
      "cell_type": "code",
      "execution_count": null,
      "metadata": {
        "id": "VPxrQxVORBls",
        "colab": {
          "base_uri": "https://localhost:8080/"
        },
        "outputId": "49cd26fb-b0ac-4017-cf09-634dfe14a222"
      },
      "outputs": [
        {
          "output_type": "execute_result",
          "data": {
            "text/plain": [
              "314"
            ]
          },
          "metadata": {},
          "execution_count": 75
        }
      ],
      "source": [
        "len(train_data)//BATCH_SIZE"
      ]
    },
    {
      "cell_type": "code",
      "source": [],
      "metadata": {
        "id": "djz3XMNdR6wQ"
      },
      "execution_count": null,
      "outputs": []
    },
    {
      "cell_type": "code",
      "source": [
        "H=models.fit(train_generator,epochs=EPOCHS,steps_per_epoch = len(train_data)//BATCH_SIZE,validation_data=validation_generator,validation_steps=len(valid_data)//BATCH_SIZE)\n"
      ],
      "metadata": {
        "id": "oFxMBxGJyYFh",
        "colab": {
          "base_uri": "https://localhost:8080/"
        },
        "outputId": "9dde309e-a9fb-442b-9fa8-e57deda3b78a"
      },
      "execution_count": null,
      "outputs": [
        {
          "output_type": "stream",
          "name": "stdout",
          "text": [
            "Epoch 1/2\n",
            "314/314 [==============================] - 1842s 6s/step - loss: 1.5794 - accuracy: 0.6608 - val_loss: 0.5729 - val_accuracy: 0.9013\n",
            "Epoch 2/2\n",
            "314/314 [==============================] - 1813s 6s/step - loss: 0.3765 - accuracy: 0.9288 - val_loss: 0.2861 - val_accuracy: 0.9354\n"
          ]
        }
      ]
    },
    {
      "cell_type": "code",
      "execution_count": null,
      "metadata": {
        "id": "858cu3ZgcV72"
      },
      "outputs": [],
      "source": [
        "models.save('model_{0:.4f}.h5'.format(H.history['val_accuracy'][-1]))"
      ]
    },
    {
      "cell_type": "code",
      "execution_count": null,
      "metadata": {
        "id": "twlHeWlTwt8R",
        "colab": {
          "base_uri": "https://localhost:8080/",
          "height": 472
        },
        "outputId": "e4e8c557-1f6b-426d-a53e-951b8666acd9"
      },
      "outputs": [
        {
          "output_type": "display_data",
          "data": {
            "text/plain": [
              "<Figure size 640x480 with 1 Axes>"
            ],
            "image/png": "[encoded data removed]"
          },
          "metadata": {}
        }
      ],
      "source": [
        "import matplotlib.pyplot as plt\n",
        "\n",
        "# plt.style.use('ggplot')\n",
        "plt.figure()\n",
        "plt.plot(np.arange(0,EPOCHS),H.history['loss'],label='loss training')\n",
        "plt.plot(np.arange(0,EPOCHS),H.history['val_loss'],label='loss validation')\n",
        "plt.plot(np.arange(0,EPOCHS),H.history['accuracy'],label='accuracy training')\n",
        "plt.plot(np.arange(0,EPOCHS),H.history['val_accuracy'],label='accuracy validation')\n",
        "plt.title('loss and accuracy in training')\n",
        "plt.xlabel('Epoch')\n",
        "plt.ylabel('loss/accuracy')\n",
        "plt.legend()\n",
        "plt.show()"
      ]
    },
    {
      "cell_type": "code",
      "execution_count": null,
      "metadata": {
        "id": "QgiDNna2x-xW"
      },
      "outputs": [],
      "source": [
        "from collections import Counter\n",
        "from keras.models import load_model\n",
        "import nltk\n",
        "import numpy as np\n",
        "import re\n",
        "\n",
        "model =load_model('model_0.9354.h5'.format(H.history['val_accuracy'][-1]))\n",
        "\n",
        "NGRAM=5\n",
        "MAXLEN=39\n"
      ]
    },
    {
      "cell_type": "code",
      "execution_count": null,
      "metadata": {
        "id": "f_cOlTRW-et4",
        "colab": {
          "base_uri": "https://localhost:8080/"
        },
        "outputId": "b37f9331-5ee6-4137-ca8a-b1c09e757977"
      },
      "outputs": [
        {
          "output_type": "stream",
          "name": "stdout",
          "text": [
            "190\n"
          ]
        }
      ],
      "source": [
        "print(len(alphabet))\n"
      ]
    },
    {
      "cell_type": "code",
      "execution_count": null,
      "metadata": {
        "id": "Ss8D5xRif85l"
      },
      "outputs": [],
      "source": [
        "def encoder_data(text):\n",
        "  x=np.zeros((MAXLEN,len(alphabet)))\n",
        "  for i,c in enumerate(text[:MAXLEN]):\n",
        "    if c not in alphabet:\n",
        "      continue\n",
        "    x[i,alphabet.index(c)] =1\n",
        "  if i < MAXLEN -1:\n",
        "    for j in range(i+1,MAXLEN):\n",
        "      x[j,0] =1\n",
        "  return x\n",
        "def decoder_data(x):\n",
        "  x=x.argmax(axis=-1)\n",
        "  return ''.join(alphabet[i] for i in x)"
      ]
    },
    {
      "cell_type": "code",
      "execution_count": null,
      "metadata": {
        "id": "BuC5X16Phye4",
        "colab": {
          "base_uri": "https://localhost:8080/"
        },
        "outputId": "cf962c1e-c1ec-49fd-f95b-968aef9a64a4"
      },
      "outputs": [
        {
          "output_type": "stream",
          "name": "stdout",
          "text": [
            "(39, 190)\n",
            "Tôi là ai tên gì\u0000\u0000\u0000\u0000\u0000\u0000\u0000\u0000\u0000\u0000\u0000\u0000\u0000\u0000\u0000\u0000\u0000\u0000\u0000\u0000\u0000\u0000\u0000\n"
          ]
        }
      ],
      "source": [
        "print(encoder_data('Tôi là ai tên gì').shape)\n",
        "print(decoder_data(encoder_data('Tôi là ai tên gì')))"
      ]
    },
    {
      "cell_type": "code",
      "execution_count": null,
      "metadata": {
        "id": "gkAHEPNv-pNK"
      },
      "outputs": [],
      "source": [
        "def nltk_ngrams(sentence,n,maxlen):\n",
        "  list_ngrams=[]\n",
        "  list_words=sentence.split()\n",
        "  num_words=len(list_words)\n",
        "\n",
        "  if (num_words >=n):\n",
        "    for ngram in nltk.ngrams(list_words,n):\n",
        "      if len(' '.join(ngram)) <= maxlen:\n",
        "        list_ngrams.append(ngram)\n",
        "  else:\n",
        "    list_ngrams.append(tuple(list_words))\n",
        "\n",
        "  return list_ngrams"
      ]
    },
    {
      "cell_type": "code",
      "execution_count": null,
      "metadata": {
        "id": "UeEVLAZV_0bx",
        "colab": {
          "base_uri": "https://localhost:8080/"
        },
        "outputId": "f99990ca-6dfc-48ea-9d03-22bb149e8c84"
      },
      "outputs": [
        {
          "output_type": "execute_result",
          "data": {
            "text/plain": [
              "[('xuwr', 'ný', 'ngoon', 'ngữ', 'tuwj'),\n",
              " ('ný', 'ngoon', 'ngữ', 'tuwj', 'nhêin')]"
            ]
          },
          "metadata": {},
          "execution_count": 89
        }
      ],
      "source": [
        "nltk_ngrams('xuwr ný ngoon ngữ tuwj nhêin',NGRAM,MAXLEN)"
      ]
    },
    {
      "cell_type": "code",
      "execution_count": null,
      "metadata": {
        "id": "4iahQceBAqef"
      },
      "outputs": [],
      "source": [
        "def guess(ngram):\n",
        "  text= ' '.join(ngram)\n",
        "  preds = model.predict(np.array([encoder_data(text)]))\n",
        "  return decoder_data(preds[0]).strip('\\x00')"
      ]
    },
    {
      "cell_type": "code",
      "execution_count": null,
      "metadata": {
        "id": "3rpYcdy-BGgA",
        "colab": {
          "base_uri": "https://localhost:8080/",
          "height": 53
        },
        "outputId": "05931c9a-2df5-48f4-aa29-f6860a8821c0"
      },
      "outputs": [
        {
          "output_type": "stream",
          "name": "stdout",
          "text": [
            "1/1 [==============================] - 2s 2s/step\n"
          ]
        },
        {
          "output_type": "execute_result",
          "data": {
            "text/plain": [
              "'xu r ný ngoonnngg tu'"
            ],
            "application/vnd.google.colaboratory.intrinsic+json": {
              "type": "string"
            }
          },
          "metadata": {},
          "execution_count": 91
        }
      ],
      "source": [
        "guess(('xuwr','ný','ngoon','ngữ','tuwj'))"
      ]
    },
    {
      "cell_type": "code",
      "execution_count": null,
      "metadata": {
        "id": "I3a1-9DyBT28"
      },
      "outputs": [],
      "source": [
        "def add_punctuation(text,corrected_text):\n",
        "  list_punctuation ={}\n",
        "  for (i,word) in enumerate(text.split()):\n",
        "    if word[0] not in alphabet or word[-1] not in alphabet:\n",
        "      start_punc = ''\n",
        "      for c in word:\n",
        "        if c in alphabet:\n",
        "          break\n",
        "        start_punc += c\n",
        "\n",
        "      end_punc=''\n",
        "      for c in word[::-1]:\n",
        "        if c in alphabet:\n",
        "          break\n",
        "        end_punc +=c\n",
        "      end_punc = end_punc[::-1]\n",
        "\n",
        "      list_punctuation[i]=[start_punc,end_punc]\n",
        "\n",
        "  result=''\n",
        "  for (i,word) in enumerate(corrected_text.split()):\n",
        "    if i in list_punctuation:\n",
        "      result += (list_punctuation[i][0] + word + list_punctuation[i][1]) + ' '\n",
        "    else:\n",
        "      result+= word + ' '\n",
        "\n",
        "  return result.strip()\n"
      ]
    },
    {
      "cell_type": "code",
      "execution_count": null,
      "metadata": {
        "id": "QVKKUm_jDceq"
      },
      "outputs": [],
      "source": [
        "def correct(text):\n",
        "  new_text = re.sub(r'[^' + ''.join(alphabet)+']','',text)\n",
        "\n",
        "  ngrams = list(nltk_ngrams(new_text,NGRAM,MAXLEN))\n",
        "\n",
        "  guessed_ngrams= list(guess(ngram) for ngram in ngrams)\n",
        "  candidates= [Counter() for _ in range(len(guessed_ngrams)+ NGRAM -1)]\n",
        "\n",
        "  for nid, ngram in (enumerate(guessed_ngrams)):\n",
        "    for wid, word in (enumerate(re.split('\\s',ngram))):\n",
        "      candidates[nid + wid].update([word])\n",
        "\n",
        "  corrected_text = ' '.join(c.most_common(1)[0][0] for c in candidates if c)\n",
        "  return add_punctuation(text,corrected_text)"
      ]
    },
    {
      "cell_type": "code",
      "execution_count": null,
      "metadata": {
        "id": "ff_LoAYAFjcG"
      },
      "outputs": [],
      "source": [
        "text=\"Hôm qua, tôi và bạn bè đã đi chời ở công viên. Chúng tôi đã có một ngày rât vui vẻ và thich thú. Chúng tôi chơi các trò chơi như đu quay\""
      ]
    },
    {
      "cell_type": "code",
      "execution_count": null,
      "metadata": {
        "id": "v-wVm_zgFowW",
        "colab": {
          "base_uri": "https://localhost:8080/",
          "height": 539
        },
        "outputId": "38ee29a4-a2d7-496b-eb95-6f1fe83e5856"
      },
      "outputs": [
        {
          "output_type": "stream",
          "name": "stdout",
          "text": [
            "1/1 [==============================] - 0s 88ms/step\n",
            "1/1 [==============================] - 0s 45ms/step\n",
            "1/1 [==============================] - 0s 68ms/step\n",
            "1/1 [==============================] - 0s 50ms/step\n",
            "1/1 [==============================] - 0s 49ms/step\n",
            "1/1 [==============================] - 0s 54ms/step\n",
            "1/1 [==============================] - 0s 49ms/step\n",
            "1/1 [==============================] - 0s 47ms/step\n",
            "1/1 [==============================] - 0s 49ms/step\n",
            "1/1 [==============================] - 0s 61ms/step\n",
            "1/1 [==============================] - 0s 48ms/step\n",
            "1/1 [==============================] - 0s 57ms/step\n",
            "1/1 [==============================] - 0s 50ms/step\n",
            "1/1 [==============================] - 0s 57ms/step\n",
            "1/1 [==============================] - 0s 45ms/step\n",
            "1/1 [==============================] - 0s 45ms/step\n",
            "1/1 [==============================] - 0s 47ms/step\n",
            "1/1 [==============================] - 0s 56ms/step\n",
            "1/1 [==============================] - 0s 53ms/step\n",
            "1/1 [==============================] - 0s 47ms/step\n",
            "1/1 [==============================] - 0s 55ms/step\n",
            "1/1 [==============================] - 0s 46ms/step\n",
            "1/1 [==============================] - 0s 51ms/step\n",
            "1/1 [==============================] - 0s 46ms/step\n",
            "1/1 [==============================] - 0s 49ms/step\n",
            "1/1 [==============================] - 0s 51ms/step\n",
            "1/1 [==============================] - 0s 43ms/step\n",
            "1/1 [==============================] - 0s 47ms/step\n",
            "1/1 [==============================] - 0s 48ms/step\n"
          ]
        },
        {
          "output_type": "execute_result",
          "data": {
            "text/plain": [
              "'Hôm qua, tôi và bạn bè đã đi chời ở công viên. Chúng tôi đã có một ngày rât vui vẻ và thich thú. Chúng tôi chơi các trò chơi như đu quay'"
            ],
            "application/vnd.google.colaboratory.intrinsic+json": {
              "type": "string"
            }
          },
          "metadata": {},
          "execution_count": 95
        }
      ],
      "source": [
        "correct(text)"
      ]
    },
    {
      "cell_type": "code",
      "execution_count": null,
      "metadata": {
        "id": "vgPeJZXyGHsC",
        "colab": {
          "base_uri": "https://localhost:8080/",
          "height": 211
        },
        "outputId": "c5ec8a30-8197-498a-e068-c6a211d96474"
      },
      "outputs": [
        {
          "output_type": "error",
          "ename": "TypeError",
          "evalue": "'numpy.ndarray' object is not callable",
          "traceback": [
            "\u001b[0;31m---------------------------------------------------------------------------\u001b[0m",
            "\u001b[0;31mTypeError\u001b[0m                                 Traceback (most recent call last)",
            "\u001b[0;32m<ipython-input-96-fd6bd402a710>\u001b[0m in \u001b[0;36m<cell line: 1>\u001b[0;34m()\u001b[0m\n\u001b[0;32m----> 1\u001b[0;31m \u001b[0mtext\u001b[0m\u001b[0;34m=\u001b[0m\u001b[0minput\u001b[0m\u001b[0;34m(\u001b[0m\u001b[0;34m)\u001b[0m\u001b[0;34m\u001b[0m\u001b[0;34m\u001b[0m\u001b[0m\n\u001b[0m\u001b[1;32m      2\u001b[0m \u001b[0;34m\u001b[0m\u001b[0m\n\u001b[1;32m      3\u001b[0m \u001b[0mresult\u001b[0m \u001b[0;34m=\u001b[0m \u001b[0mcorrect\u001b[0m\u001b[0;34m(\u001b[0m\u001b[0mtext\u001b[0m\u001b[0;34m)\u001b[0m\u001b[0;34m\u001b[0m\u001b[0;34m\u001b[0m\u001b[0m\n\u001b[1;32m      4\u001b[0m \u001b[0mprint\u001b[0m\u001b[0;34m(\u001b[0m\u001b[0mresult\u001b[0m\u001b[0;34m)\u001b[0m\u001b[0;34m\u001b[0m\u001b[0;34m\u001b[0m\u001b[0m\n\u001b[1;32m      5\u001b[0m \u001b[0;34m\u001b[0m\u001b[0m\n",
            "\u001b[0;31mTypeError\u001b[0m: 'numpy.ndarray' object is not callable"
          ]
        }
      ],
      "source": [
        "text=input()\n",
        "\n",
        "result = correct(text)\n",
        "print(result)\n",
        "\n",
        "text = re.sub(r'[^' + ''.join(alphabet) +']','',text)\n",
        "list_text=text.split()\n",
        "\n",
        "result= re.sub(r'[^' + ''.join(alphabet) +']','',result)\n",
        "list_result=result.split()\n",
        "\n",
        "corrected_word = [(list_text[i],list_result[i]) for i in range(len(list_text)) if list_text[i] != list_result[i]]\n",
        "corrected_word"
      ]
    }
  ],
  "metadata": {
    "accelerator": "GPU",
    "colab": {
      "gpuType": "T4",
      "provenance": []
    },
    "kernelspec": {
      "display_name": "Python 3",
      "name": "python3"
    },
    "language_info": {
      "codemirror_mode": {
        "name": "ipython",
        "version": 3
      },
      "file_extension": ".py",
      "mimetype": "text/x-python",
      "name": "python",
      "nbconvert_exporter": "python",
      "pygments_lexer": "ipython3",
      "version": "3.11.2"
    }
  },
  "nbformat": 4,
  "nbformat_minor": 0
}