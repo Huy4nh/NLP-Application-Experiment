{
  "cells": [
    {
      "cell_type": "code",
      "execution_count": null,
      "metadata": {
        "id": "pgmKYmk6ivdM"
      },
      "outputs": [],
      "source": []
    },
    {
      "cell_type": "code",
      "execution_count": 1,
      "metadata": {
        "id": "4KPeMj4u3MsZ"
      },
      "outputs": [],
      "source": [
        "from urllib.request import urlopen\n",
        "from bs4 import BeautifulSoup\n",
        "import re\n",
        "\n",
        "URL='https://vnexpress.net'"
      ]
    },
    {
      "cell_type": "code",
      "execution_count": 2,
      "metadata": {
        "id": "3UaCJRUIAIL_"
      },
      "outputs": [],
      "source": [
        "def get_links(url):\n",
        "  links=[]\n",
        "  html=urlopen(url).read()\n",
        "  soup=BeautifulSoup(html,'html.parser')\n",
        "\n",
        "  urls=set(re.findall(r'(?:http|https|ftp):\\/\\/(?:[\\w_-]+(?:(?:\\.[\\w_-]+)+))(?:[\\w.,@?^=%&:/~+#-]*[\\w@?^=%&/~+#-])',str(soup)))\n",
        "\n",
        "  for url in urls:\n",
        "    if url != URL and url.startswith(URL) and not url.startswith(URL + '/tac-gia') and url.endswith('.html'):\n",
        "      links.append(url)\n",
        "  return links"
      ]
    },
    {
      "cell_type": "code",
      "execution_count": 3,
      "metadata": {
        "colab": {
          "base_uri": "https://localhost:8080/"
        },
        "id": "eeYPMUUMB917",
        "outputId": "72200f67-5731-4627-dd6e-7ea001fadb02"
      },
      "outputs": [
        {
          "data": {
            "text/plain": [
              "['https://vnexpress.net/con-truong-vu-11-anh-em-kien-chia-dat-yeu-cau-so-do-dung-ten-minh-4746936.html',\n",
              " 'https://vnexpress.net/nhut-nhat-truoc-nguoi-la-4747079.html',\n",
              " 'https://vnexpress.net/toan-canh-vu-thu-tuong-slovakia-bi-ban-4746667.html',\n",
              " 'https://vnexpress.net/oto-cho-doan-can-bo-so-tu-phap-khanh-hoa-gap-nan-4746946.html',\n",
              " 'https://vnexpress.net/nga-trung-ra-tuyen-bo-chung-ung-ho-giai-quyet-xung-dot-ukraine-bang-doi-thoai-4747000.html',\n",
              " 'https://vnexpress.net/ong-le-thanh-hai-bi-cach-tat-ca-chuc-vu-trong-dang-4746728.html',\n",
              " 'https://vnexpress.net/su-thich-minh-tue-khong-phai-tu-si-4747048.html',\n",
              " 'https://vnexpress.net/trung-uong-gioi-thieu-nhan-su-de-bau-chu-tich-nuoc-chu-tich-quoc-hoi-4746984.html',\n",
              " 'https://vnexpress.net/gia-xang-moi-nhat-hom-nay-16-5-4746869.html',\n",
              " 'https://vnexpress.net/bau-bo-sung-4-uy-vien-bo-chinh-tri-khoa-13-4746941.html',\n",
              " 'https://vnexpress.net/vks-de-nghi-khong-giam-an-cho-cuu-bo-truong-nguyen-thanh-long-4746883.html',\n",
              " 'https://vnexpress.net/nghi-pham-ban-thu-tuong-slovakia-la-soi-don-doc-4747034.html',\n",
              " 'https://vnexpress.net/800-cong-nhan-o-dong-nai-kip-thoi-ngung-an-mon-nghi-gay-ngo-doc-4746784.html',\n",
              " 'https://vnexpress.net/viet-a-doi-no-gan-800-ty-dong-cua-khach-hang-mua-kit-test-4746821.html',\n",
              " 'https://vnexpress.net/dai-tuong-luong-cuong-lam-thuong-truc-ban-bi-thu-4745627.html',\n",
              " 'https://vnexpress.net/ba-truong-thi-mai-thoi-chuc-thuong-truc-ban-bi-thu-4741770.html',\n",
              " 'https://vnexpress.net/tam-anh-huong-cua-thu-tuong-slovakia-truoc-khi-bi-ban-4746577.html',\n",
              " 'https://vnexpress.net/chuyen-hoa-bun-thanh-cellulose-vi-khuan-gianh-giai-nhat-sang-kien-khoa-hoc-2024-4746669-tong-thuat.html',\n",
              " 'https://vnexpress.net/ong-hun-sen-hoi-thuc-khoi-cong-kenh-funan-techo-4747061.html',\n",
              " 'https://vnexpress.net/ong-duong-van-thai-mai-tien-dung-bi-khai-tru-dang-4746765.html',\n",
              " 'https://vnexpress.net/de-xuat-nang-muc-huong-tro-cap-that-nghiep-len-75-4746807.html',\n",
              " 'https://vnexpress.net/bay-rac-tren-song-4746567.html',\n",
              " 'https://vnexpress.net/ong-le-minh-hung-lam-truong-ban-to-chuc-trung-uong-4745977.html',\n",
              " 'https://vnexpress.net/sjc-de-xuat-bo-doc-quyen-vang-mieng-vi-khong-duoc-loi-4747025.html',\n",
              " 'https://vnexpress.net/rut-giay-phep-cua-hang-vang-khong-ket-noi-voi-thue-truoc-15-6-4747068.html',\n",
              " 'https://vnexpress.net/tai-xe-tong-chet-5-nguoi-tung-chay-39-chuyen-khong-co-bang-lai-4746730.html',\n",
              " 'https://vnexpress.net/giam-doc-khu-di-tich-den-hung-bi-tam-giu-4746997.html',\n",
              " 'https://vnexpress.net/bill-gates-cua-an-do-sap-den-viet-nam-4747003.html']"
            ]
          },
          "execution_count": 3,
          "metadata": {},
          "output_type": "execute_result"
        }
      ],
      "source": [
        "get_links(URL)"
      ]
    },
    {
      "cell_type": "code",
      "execution_count": 4,
      "metadata": {
        "colab": {
          "base_uri": "https://localhost:8080/"
        },
        "id": "wImjXKuvCDm3",
        "outputId": "d5d9b24d-0915-44de-99f5-8fe811451102"
      },
      "outputs": [
        {
          "name": "stdout",
          "output_type": "stream",
          "text": [
            "khoa-hoc 50\n",
            "giai-tri 50\n",
            "the-thao 50\n",
            "goc-nhin 46\n"
          ]
        }
      ],
      "source": [
        "get_links(URL)\n",
        "categories=['khoa-hoc','giai-tri','the-thao']\n",
        "\n",
        "article_url={}\n",
        "\n",
        "for category in categories:\n",
        "  article_url[category]=[]\n",
        "\n",
        "  for i in range(1,11):\n",
        "    url='{}/{}-p{}'.format(URL,category,str(i))\n",
        "    article_url[category]+= get_links(url)\n",
        "\n",
        "  article_url[category]=list(set(article_url[category][:50]))\n",
        "  print(category,len(article_url[category]))\n",
        "\n",
        "  goc_nhin=['binh-luan-nhieu','covid-19','chinh-tri-chinh-sach','y-te-suc-khoe','kinh-doanh-quan-tri','giao-duc-tri-thuc','van-hoa-loi-song']\n",
        "  article_url['goc-nhin']=[]\n",
        "\n",
        "  for sub_cate in goc_nhin:\n",
        "    url='{}/{}/{}'.format(URL,'goc-nhin',sub_cate)\n",
        "    article_url['goc-nhin'] +=get_links(url)\n",
        "\n",
        "article_url['goc-nhin']= list(set(article_url['goc-nhin'][:50]))\n",
        "print('goc-nhin',len(article_url['goc-nhin']))\n"
      ]
    },
    {
      "cell_type": "markdown",
      "metadata": {
        "id": "RLag7tJbazeU"
      },
      "source": []
    },
    {
      "cell_type": "code",
      "execution_count": 5,
      "metadata": {
        "id": "y2ATj9-gJ4W_"
      },
      "outputs": [],
      "source": [
        "def get_content(url):\n",
        "  content=''\n",
        "  html=urlopen(url).read()\n",
        "  soup=BeautifulSoup(html,'html.parser')\n",
        "\n",
        "  div_content= soup.select('.page-detail .container')\n",
        "  if len(div_content) > 0:\n",
        "    div_content= div_content[0]\n",
        "\n",
        "    description= div_content.find_all('p',{'class': 'description'})\n",
        "    if len(description)>0:\n",
        "      description=description[-1]\n",
        "      text_description=description.get_text()\n",
        "      location=description.find('span',{'class': 'location-stamp'})\n",
        "      if location is not None:\n",
        "        content=text_description[len(location.get_text()):]\n",
        "      else:\n",
        "        content = text_description\n",
        "\n",
        "    detail= div_content.find('article',{'class': 'fck_detail'})\n",
        "    if detail is not None:\n",
        "      p_normal= detail.find_all('p',{'class':'Normal'})\n",
        "      if len(p_normal) >0:\n",
        "        for p in p_normal:\n",
        "          p_text=p.get_text()\n",
        "          if p_text !='' and not p_text.startswith('>>') and p_text[-1] in ['.','!','?']:\n",
        "            content+=' ' + p.get_text()\n",
        "  return re.sub(r'\\n','',content)"
      ]
    },
    {
      "cell_type": "code",
      "execution_count": 6,
      "metadata": {
        "colab": {
          "base_uri": "https://localhost:8080/",
          "height": 140
        },
        "id": "D5KKc1F2NfAQ",
        "outputId": "054f3473-0d8b-4bf6-cada-50c5dea030a9"
      },
      "outputs": [
        {
          "data": {
            "application/vnd.google.colaboratory.intrinsic+json": {
              "type": "string"
            },
            "text/plain": [
              "'Các nhà khoa học Trung Quốc phát triển Xiaohong, chip điện toán lượng tử 504 qubit, dự kiến cho phép các nhà nghiên cứu trên khắp thế giới truy cập. Xiaohong là chip điện toán lượng tử lớn nhất do Trung Quốc chế tạo đến nay, được thiết kế để nâng cấp những hệ thống quản lý sự tương tác và hoạt động của các bit lượng tử (qubit) trong máy tính lượng tử. Các nhà khoa học hy vọng nó sẽ giúp cải tiến máy tính lượng tử để chúng có thể xử lý những tác vụ phức tạp hơn, Live Science hôm 13/5 đưa tin. Chip Xiaohong 504 qubit do Trung tâm Xuất sắc về Thông tin Lượng tử và Vật lý Lượng tử thuộc Viện Hàn lâm Khoa học Trung Quốc (CAS) phát triển. Công ty điện toán lượng tử Trung Quốc QuantumCTek, đơn vị đã nhận chip Xiaohong đầu tiên, sẽ hợp tác với Tập đoàn Lượng tử Viễn thông Trung Quốc để tích hợp con chip vào một máy tính lượng tử mới. Hệ thống này sau đó sẽ cho phép các nhà nghiên cứu trên toàn thế giới truy cập thông qua một nền tảng đám mây điện toán lượng tử của Tập đoàn Lượng tử Viễn thông Trung Quốc. \"Hệ thống mới sẽ cho phép người dùng ở nhiều lĩnh vực tiến hành nghiên cứu về những vấn đề và thuật toán có giá trị thực tiễn một cách hiệu quả, đồng thời đẩy nhanh việc ứng dụng điện toán lượng tử vào tình huống thực tế\", Wang Zhen, phó giám đốc tại Tập đoàn Lượng tử Viễn thông Trung Quốc, cho biết. Xiaohong được thiết kế để đáp ứng tiêu chuẩn hiệu suất của những nền tảng điện toán lượng tử dựa trên đám mây giống như loại do IBM hoặc AWS sản xuất. Tuy nhiên, con chip mới không hướng đến trở thành đối thủ công nghệ với chip tiên tiến của Mỹ, ví dụ như chip IBM Quantum Condor 1.121 qubit, theo Gong Ming, nhà nghiên cứu tại Trung tâm Xuất sắc về Thông tin Lượng tử và Vật lý Lượng tử. Thay vào đó, các nhà khoa học hy vọng việc truy cập Xiaohong thông qua đám mây sẽ thúc đẩy các hệ thống điều khiển và đo lường điện toán lượng tử quy mô lớn (QCMCS) phát triển. Về cơ bản, máy tính lượng tử hoạt động khác với máy tính cổ điển. Không giống như các bit cổ điển chỉ có thể biểu thị dưới dạng 0 hoặc 1, qubit có thể tồn tại ở nhiều trạng thái cùng lúc. Điều này cho phép máy tính lượng tử thực hiện song song các phép tính với tốc độ khó tin nếu các qubit được ghép lại với nhau thông qua sự vướng víu lượng tử. QCMCS là những thành phần thiết yếu trong điện toán lượng tử - đóng vai trò cầu nối liên kết máy tính truyền thống với máy tính lượng tử. Liên kết này cho phép máy tính lượng tử diễn giải các lệnh nhận được từ môi trường điện toán cổ điển và quản lý trạng thái qubit dựa theo đó.'"
            ]
          },
          "execution_count": 6,
          "metadata": {},
          "output_type": "execute_result"
        }
      ],
      "source": [
        "get_content(article_url['khoa-hoc'][0])"
      ]
    },
    {
      "cell_type": "code",
      "execution_count": 7,
      "metadata": {
        "colab": {
          "base_uri": "https://localhost:8080/"
        },
        "id": "p7PWSmxOY3T0",
        "outputId": "88f756b1-516f-4108-c9aa-164ce2e247ec"
      },
      "outputs": [
        {
          "name": "stdout",
          "output_type": "stream",
          "text": [
            "AÁÀẢÃẠĂẮẰẲẴẶÂẤẦẨẪẬBCDĐEÉÈẺẼẸÊẾỀỂỄỆGHIÍÌỈĨỊKLMNÓÒỎÕỌỐỒỔỖỘỜỚỞỠỢOÓÒỎÕỌỐỒỔỖỘỜỚỞỠỢÔỐỒỔỖỘỜỚỞỠỢƠỚỜỞỠỢPQRSTUÚÙỦŨỤỨỪỬỮỰƯVXYÝỲỶỸỴWZ\n"
          ]
        }
      ],
      "source": [
        "uppercase = (\n",
        "    \"AÁÀẢÃẠĂẮẰẲẴẶÂẤẦẨẪẬ\"\n",
        "    \"B\"\n",
        "    \"C\"\n",
        "    \"DĐ\"\n",
        "    \"EÉÈẺẼẸÊẾỀỂỄỆ\"\n",
        "    \"G\"\n",
        "    \"H\"\n",
        "    \"IÍÌỈĨỊ\"\n",
        "    \"K\"\n",
        "    \"L\"\n",
        "    \"M\"\n",
        "    \"NÓÒỎÕỌỐỒỔỖỘỜỚỞỠỢ\"\n",
        "    \"OÓÒỎÕỌỐỒỔỖỘỜỚỞỠỢ\"\n",
        "    \"ÔỐỒỔỖỘỜỚỞỠỢ\"\n",
        "    \"ƠỚỜỞỠỢ\"\n",
        "    \"P\"\n",
        "    \"Q\"\n",
        "    \"R\"\n",
        "    \"S\"\n",
        "    \"T\"\n",
        "    \"UÚÙỦŨỤỨỪỬỮỰƯ\"\n",
        "    \"V\"\n",
        "    \"X\"\n",
        "    \"YÝỲỶỸỴ\"\n",
        "    \"W\"\n",
        "    \"Z\"\n",
        ")\n",
        "\n",
        "\n",
        "uppercase_string = ''.join(uppercase)\n",
        "print(uppercase_string)"
      ]
    },
    {
      "cell_type": "code",
      "execution_count": 8,
      "metadata": {
        "id": "8BzY0NooBedK"
      },
      "outputs": [],
      "source": [
        "import os.path\n",
        "from os import path\n",
        "if path.exists('data/categories') == False:\n",
        "  !mkdir data\n",
        "  !mkdir data/categories"
      ]
    },
    {
      "cell_type": "code",
      "execution_count": 11,
      "metadata": {
        "colab": {
          "base_uri": "https://localhost:8080/"
        },
        "id": "zEwsIAXIXgSZ",
        "outputId": "b3070125-3e8b-4da3-c0ad-98030d221b47"
      },
      "outputs": [
        {
          "name": "stdout",
          "output_type": "stream",
          "text": [
            "khoa-hoc 50\n",
            "goc-nhin 46\n",
            "giai-tri 50\n",
            "the-thao 50\n",
            "tổng số câu tách được: 5476\n"
          ]
        }
      ],
      "source": [
        "import os\n",
        "import shutil\n",
        "def delete_files_in_folder(folder_path):\n",
        "    for root, dirs, files in os.walk(folder_path):\n",
        "        for file in files:\n",
        "            os.remove(os.path.join(root, file))\n",
        "        for dir in dirs:\n",
        "            shutil.rmtree(os.path.join(root, dir))\n",
        "\n",
        "# Thay đổi đường dẫn của thư mục mà bạn muốn xóa các tệp\n",
        "folder_path = \"/content/data/categories/\"\n",
        "delete_files_in_folder(folder_path)\n",
        "sentence=[]\n",
        "\n",
        "uppercase='AÁÀẢÃẠĂẮẰẲẴẶÂẤẦẨẪẬBCDĐEÉÈẺẼẸÊẾỀỂỄỆGHIÍÌỈĨỊKLMNÓÒỎÕỌỐỒỔỖỘỜỚỞỠỢOÓÒỎÕỌỐỒỔỖỘỜỚỞỠỢÔỐỒỔỖỘỜỚỞỠỢƠỚỜỞỠỢPQRSTUÚÙỦŨỤỨỪỬỮỰƯVXYÝỲỶỸỴWZ'\n",
        "\n",
        "for category in article_url.keys():\n",
        "  current_path='data/categories/' + category +'/'\n",
        "  os.mkdir(current_path)\n",
        "\n",
        "  count=0\n",
        "  for i in range(len(article_url[category])):\n",
        "    content=get_content(article_url[category][i])\n",
        "    if content !='':\n",
        "      count+=1\n",
        "      f=open('{}/{}_{}.txt'.format(current_path,category,str(count)), 'w', encoding='utf-8')\n",
        "\n",
        "      lines=re.sub(r'(?<=[.?!])(?=[\\'\"`]*['+ uppercase +'-])',' ',content)\n",
        "\n",
        "      lines=re.split(r'(?<=[.?!])\\s+(?=[\\'\"`\"'']*['+ uppercase +'0-9-])',content )\n",
        "\n",
        "      for line in lines:\n",
        "        f.write(line + '\\n')\n",
        "        sentence.append(line)\n",
        "      f.close()\n",
        "\n",
        "  print(category,count)\n",
        "\n",
        "sentence=list(set(sentence))\n",
        "print('tổng số câu tách được:',len(sentence))"
      ]
    },
    {
      "cell_type": "code",
      "execution_count": 12,
      "metadata": {
        "colab": {
          "base_uri": "https://localhost:8080/"
        },
        "id": "vHY3d4jK5OF4",
        "outputId": "0ba02d94-532d-402a-db9d-9f8c4cac0216"
      },
      "outputs": [
        {
          "data": {
            "text/plain": [
              "['Nhìn túi thuốc, tôi buồn quá.',\n",
              " 'Tôi còn muốn đưa họ đi du lịch nhiều nơi.',\n",
              " 'Bước đầu, nguyên nhân được cho là xảy ra sự cố động cơ điện của máy nghiền.',\n",
              " 'Nhà mốt mong muốn truyền tải hình ảnh phụ nữ Việt Nam kiên cường, bản lĩnh, mang phong thái riêng.',\n",
              " 'Thị trường kinh doanh các sản phẩm liên quan đến Covid-19, theo tôi đã trải qua ba giai đoạn.',\n",
              " 'Người mẫu Camille Kostek khoe dáng đồng hồ cát với váy Rhea Costa, giày Black Suede Studio và trang sức Ettika.',\n",
              " 'Chúng tôi tiếp tục kết hợp với bệnh viện tuyến trên điều trị thành công ca này.',\n",
              " 'Tôi chạy nhờ luật sư thì luật sư nói, phải vậy đó nhưng xong thủ tục này cũng phải hai năm, lúc đó, cháu đã 18 tuổi, chẳng cần giấy tờ bảo hộ nữa.',\n",
              " 'Bức xạ từ sao chủ khiến 55 Cancri e mất đi khí quyển ban đầu, tương tự những hành tinh đá khác quay quanh sao chủ ở khoảng cách quá gần.',\n",
              " 'Nhưng lời tôi nói có đủ sức thuyết phục hay không phụ thuộc rất lớn vào nỗ lực sửa mình của ngành bảo hiểm.']"
            ]
          },
          "execution_count": 12,
          "metadata": {},
          "output_type": "execute_result"
        }
      ],
      "source": [
        "sentence[:10]"
      ]
    },
    {
      "cell_type": "code",
      "execution_count": 12,
      "metadata": {
        "id": "yycp-Cqwydr3"
      },
      "outputs": [],
      "source": []
    },
    {
      "cell_type": "code",
      "execution_count": 13,
      "metadata": {
        "colab": {
          "base_uri": "https://localhost:8080/"
        },
        "id": "1EcXV_5byTRT",
        "outputId": "5127579e-f3c4-4414-d9d8-b26f23c01d05"
      },
      "outputs": [
        {
          "name": "stdout",
          "output_type": "stream",
          "text": [
            "so luong cau trong file ngu lieu: 5476\n"
          ]
        }
      ],
      "source": [
        "file_corpus=open('data/corpus.txt','w',encoding='utf-8')\n",
        "\n",
        "count=0\n",
        "\n",
        "for sent in sentence:\n",
        "  sent=re.sub(r'\\u200b','',sent)\n",
        "  file_corpus.write(sent.strip()+'\\n')\n",
        "  count+=1\n",
        "file_corpus.close()\n",
        "\n",
        "print('so luong cau trong file ngu lieu:',count)"
      ]
    },
    {
      "cell_type": "code",
      "execution_count": 14,
      "metadata": {
        "colab": {
          "base_uri": "https://localhost:8080/"
        },
        "id": "VGb5MLOs5WDE",
        "outputId": "799b9939-1505-4595-c904-9a870a360a6a"
      },
      "outputs": [
        {
          "name": "stdout",
          "output_type": "stream",
          "text": [
            "so cau du lieu 5476\n"
          ]
        }
      ],
      "source": [
        "f = open('data/corpus.txt','r',encoding='utf-8')\n",
        "data = [line[:-1] for line in f.readlines()]\n",
        "f.close()\n",
        "\n",
        "print('so cau du lieu',len(data))"
      ]
    },
    {
      "cell_type": "code",
      "execution_count": 15,
      "metadata": {
        "colab": {
          "base_uri": "https://localhost:8080/"
        },
        "id": "p9Sm_WGT5mJX",
        "outputId": "0ce4ed6d-ac78-43ab-d5cf-61bc4bc5ca34"
      },
      "outputs": [
        {
          "data": {
            "text/plain": [
              "['Nhìn túi thuốc, tôi buồn quá.',\n",
              " 'Tôi còn muốn đưa họ đi du lịch nhiều nơi.',\n",
              " 'Bước đầu, nguyên nhân được cho là xảy ra sự cố động cơ điện của máy nghiền.',\n",
              " 'Nhà mốt mong muốn truyền tải hình ảnh phụ nữ Việt Nam kiên cường, bản lĩnh, mang phong thái riêng.',\n",
              " 'Thị trường kinh doanh các sản phẩm liên quan đến Covid-19, theo tôi đã trải qua ba giai đoạn.',\n",
              " 'Người mẫu Camille Kostek khoe dáng đồng hồ cát với váy Rhea Costa, giày Black Suede Studio và trang sức Ettika.',\n",
              " 'Chúng tôi tiếp tục kết hợp với bệnh viện tuyến trên điều trị thành công ca này.',\n",
              " 'Tôi chạy nhờ luật sư thì luật sư nói, phải vậy đó nhưng xong thủ tục này cũng phải hai năm, lúc đó, cháu đã 18 tuổi, chẳng cần giấy tờ bảo hộ nữa.',\n",
              " 'Bức xạ từ sao chủ khiến 55 Cancri e mất đi khí quyển ban đầu, tương tự những hành tinh đá khác quay quanh sao chủ ở khoảng cách quá gần.',\n",
              " 'Nhưng lời tôi nói có đủ sức thuyết phục hay không phụ thuộc rất lớn vào nỗ lực sửa mình của ngành bảo hiểm.']"
            ]
          },
          "execution_count": 15,
          "metadata": {},
          "output_type": "execute_result"
        }
      ],
      "source": [
        "data[:10]"
      ]
    },
    {
      "cell_type": "code",
      "execution_count": 135,
      "metadata": {
        "colab": {
          "base_uri": "https://localhost:8080/"
        },
        "id": "6I60Pt7Z2e4N",
        "outputId": "42e1ceeb-09fe-4abc-9250-4e6c8374d5ca"
      },
      "outputs": [
        {
          "name": "stdout",
          "output_type": "stream",
          "text": [
            "['a', 'ă', 'â', 'e', 'ê', 'i', 'o', 'ô', 'ơ', 'u', 'ư', 'y', 'A', 'Ă', 'Â', 'E', 'Ê', 'I', 'O', 'Ô', 'Ơ', 'U', 'Ư', 'Y', 'á', 'à', 'ả', 'ã', 'ạ', 'ắ', 'ằ', 'ẳ', 'ẵ', 'ặ', 'ấ', 'ầ', 'ẩ', 'ẫ', 'ậ', 'é', 'è', 'ẻ', 'ẽ', 'ẹ', 'ế', 'ề', 'ể', 'ễ', 'ệ', 'í', 'ì', 'ỉ', 'ĩ', 'ị', 'ó', 'ò', 'ỏ', 'õ', 'ọ', 'ố', 'ồ', 'ổ', 'ỗ', 'ộ', 'ớ', 'ờ', 'ở', 'ỡ', 'ợ', 'ú', 'ù', 'ủ', 'ũ', 'ụ', 'ứ', 'ừ', 'ử', 'ữ', 'ự', 'ý', 'ỳ', 'ỷ', 'ỹ', 'ỵ', 'Á', 'À', 'Ả', 'Ã', 'Ạ', 'Ắ', 'Ằ', 'Ẳ', 'Ẵ', 'Ặ', 'Ấ', 'Ầ', 'Ẩ', 'Ẫ', 'Ậ', 'É', 'È', 'Ẻ', 'Ẽ', 'Ẹ', 'Ế', 'Ề', 'Ể', 'Ễ', 'Ệ', 'Í', 'Ì', 'Ỉ', 'Ĩ', 'Ị', 'Ó', 'Ò', 'Ỏ', 'Õ', 'Ọ', 'Ố', 'Ồ', 'Ổ', 'Ỗ', 'Ộ', 'Ớ', 'Ờ', 'Ở', 'Ỡ', 'Ợ', 'Ú', 'Ù', 'Ủ', 'Ũ', 'Ụ', 'Ứ', 'Ừ', 'Ử', 'Ữ', 'Ự', 'Ý', 'Ỳ', 'Ỷ', 'Ỹ', 'Ỵ']\n",
            "{'Anh': 'a', 'anh': 'a', 'chị': 'c', 'em': 'e', 'tôi': 't', 'bạn': 'bn', 'không': 'ko', 'được': 'dc', 'gì': 'j', 'biết': 'bt', 'rồi': 'r', 'vui': 'vv', 'buồn': 'b', 'và': 'vs', 'vì': 'v', 'như': 'n', 'điện thoại': 'dt', 'làm việc': 'lv', 'sinh nhật': 'sn', 'thế nào': 'tn', 'bao giờ': 'bg', 'nhất': '1', 'yêu': 'iu', 'không sao': 'ks', 'gia đình': 'gd', 'bạn bè': 'bb', 'giúp đỡ': 'gd', 'đi': 'đi', 'nhà': 'nhà', 'học': 'hc', 'người': 'ng', 'chưa': 'chưa', 'chuyện': 'ch', 'một': '1', 'rất': 'rất', 'với': 'vs'}\n",
            "{'á': \"a'\", 'à': 'a`', 'ả': 'a?', 'ã': 'a~', 'ạ': 'a.', 'ă': 'aw', 'ắ': \"aw'\", 'ằ': 'aw`', 'ẳ': 'aw?', 'ẵ': 'aw~', 'ặ': 'aw.', 'â': 'aa', 'ấ': \"aa'\", 'ầ': 'aa`', 'ẩ': 'aa?', 'ẫ': 'aa~', 'ậ': 'aa.', 'é': \"e'\", 'è': 'e`', 'ẻ': 'e?', 'ẽ': 'e~', 'ẹ': 'e.', 'ê': 'ee', 'ế': \"ee'\", 'ề': 'ee`', 'ể': 'ee?', 'ễ': 'ee~', 'ệ': 'ee.', 'í': \"i'\", 'ì': 'i`', 'ỉ': 'i?', 'ĩ': 'i~', 'ị': 'i.', 'ó': \"o'\", 'ò': 'o`', 'ỏ': 'o?', 'õ': 'o~', 'ọ': 'o.', 'ô': 'oo', 'ố': \"oo'\", 'ồ': 'oo`', 'ổ': 'oo?', 'ỗ': 'oo~', 'ộ': 'oo.', 'ơ': 'ow', 'ớ': \"ow'\", 'ờ': 'ow`', 'ở': 'ow?', 'ỡ': 'ow~', 'ợ': 'ow.', 'ú': \"u'\", 'ù': 'u`', 'ủ': 'u?', 'ũ': 'u~', 'ụ': 'u.', 'ư': 'uw', 'ứ': \"uw'\", 'ừ': 'uw`', 'ử': 'uw?', 'ữ': 'uw~', 'ự': 'uw.', 'ý': \"y'\", 'ỳ': 'y`', 'ỷ': 'y?', 'ỹ': 'y~', 'ỵ': 'y.'}\n",
            "{'á': 'ã', 'à': 'ạ', 'ả': 'ã', 'ã': 'ả', 'ạ': 'à', 'ă': 'â', 'ắ': 'ẳ', 'ằ': 'ặ', 'ẳ': 'ẵ', 'ẵ': 'ẳ', 'ặ': 'ằ', 'â': 'ă', 'ấ': 'ậ', 'ầ': 'ẩ', 'ẩ': 'ẫ', 'ẫ': 'ể', 'ậ': 'ấ', 'é': 'ẹ', 'è': 'ẻ', 'ẻ': 'ẽ', 'ẽ': 'è', 'ẹ': 'ế', 'ê': 'ê', 'ế': 'ể', 'ề': 'ệ', 'ể': 'ế', 'ễ': 'ề', 'ệ': 'ễ', 'í': 'ĩ', 'ì': 'ị', 'ỉ': 'ì', 'ĩ': 'í', 'ị': 'ỉ', 'ó': 'ọ', 'ò': 'ỏ', 'ỏ': 'õ', 'õ': 'ó', 'ọ': 'ò', 'ô': 'ơ', 'ố': 'ỗ', 'ồ': 'ộ', 'ổ': 'ố', 'ỗ': 'ồ', 'ộ': 'ổ', 'ơ': 'ô', 'ớ': 'ợ', 'ờ': 'ỡ', 'ở': 'ờ', 'ỡ': 'ớ', 'ợ': 'ở', 'ú': 'ụ', 'ù': 'ủ', 'ủ': 'ũ', 'ũ': 'ú', 'ụ': 'ù', 'ư': 'ơ', 'ứ': 'ự', 'ừ': 'ữ', 'ử': 'ứ', 'ữ': 'ừ', 'ự': 'ử', 'ý': 'ỵ', 'ỳ': 'ỷ', 'ỷ': 'ỹ', 'ỹ': 'ý', 'ỵ': 'ỳ'}\n",
            "{'b': 'p', 'c': 'k', 'd': 'đ', 'đ': 'd', 'g': 'gh', 'h': 'k', 'k': 'c', 'l': 'n', 'm': 'n', 'n': 'ng', 'p': 'b', 'q': 'k', 'r': 'd', 's': 'x', 't': 'th', 'v': 'f', 'x': 's', 'ch': 'tr', 'gh': 'g', 'kh': 'h', 'ng': 'n', 'ngh': 'ng', 'nh': 'n', 'ph': 'f', 'th': 't', 'tr': 'ch'}\n"
          ]
        }
      ],
      "source": [
        "vowel = list(\"aăâeêioôơuưyAĂÂEÊIOÔƠUƯYáàảãạắằẳẵặấầẩẫậéèẻẽẹếềểễệíìỉĩịóòỏõọốồổỗộớờởỡợúùủũụứừửữựýỳỷỹỵÁÀẢÃẠẮẰẲẴẶẤẦẨẪẬÉÈẺẼẸẾỀỂỄỆÍÌỈĨỊÓÒỎÕỌỐỒỔỖỘỚỜỞỠỢÚÙỦŨỤỨỪỬỮỰÝỲỶỸỴ\")\n",
        "consonants = list(\"bcdđghklmnpqrstvxBCDĐGHKLMNPQRSTVX\")\n",
        "full_letters=vowel + consonants\n",
        "print(vowel)\n",
        "\n",
        "typo = {\n",
        "    'á': 'a\\'',\n",
        "    'à': 'a`',\n",
        "    'ả': 'a?',\n",
        "    'ã': 'a~',\n",
        "    'ạ': 'a.',\n",
        "    'ă': 'aw',\n",
        "    'ắ': 'aw\\'',\n",
        "    'ằ': 'aw`',\n",
        "    'ẳ': 'aw?',\n",
        "    'ẵ': 'aw~',\n",
        "    'ặ': 'aw.',\n",
        "    'â': 'aa',\n",
        "    'ấ': 'aa\\'',\n",
        "    'ầ': 'aa`',\n",
        "    'ẩ': 'aa?',\n",
        "    'ẫ': 'aa~',\n",
        "    'ậ': 'aa.',\n",
        "    'é': 'e\\'',\n",
        "    'è': 'e`',\n",
        "    'ẻ': 'e?',\n",
        "    'ẽ': 'e~',\n",
        "    'ẹ': 'e.',\n",
        "    'ê': 'ee',\n",
        "    'ế': 'ee\\'',\n",
        "    'ề': 'ee`',\n",
        "    'ể': 'ee?',\n",
        "    'ễ': 'ee~',\n",
        "    'ệ': 'ee.',\n",
        "    'í': 'i\\'',\n",
        "    'ì': 'i`',\n",
        "    'ỉ': 'i?',\n",
        "    'ĩ': 'i~',\n",
        "    'ị': 'i.',\n",
        "    'ó': 'o\\'',\n",
        "    'ò': 'o`',\n",
        "    'ỏ': 'o?',\n",
        "    'õ': 'o~',\n",
        "    'ọ': 'o.',\n",
        "    'ô': 'oo',\n",
        "    'ố': 'oo\\'',\n",
        "    'ồ': 'oo`',\n",
        "    'ổ': 'oo?',\n",
        "    'ỗ': 'oo~',\n",
        "    'ộ': 'oo.',\n",
        "    'ơ': 'ow',\n",
        "    'ớ': 'ow\\'',\n",
        "    'ờ': 'ow`',\n",
        "    'ở': 'ow?',\n",
        "    'ỡ': 'ow~',\n",
        "    'ợ': 'ow.',\n",
        "    'ú': 'u\\'',\n",
        "    'ù': 'u`',\n",
        "    'ủ': 'u?',\n",
        "    'ũ': 'u~',\n",
        "    'ụ': 'u.',\n",
        "    'ư': 'uw',\n",
        "    'ứ': 'uw\\'',\n",
        "    'ừ': 'uw`',\n",
        "    'ử': 'uw?',\n",
        "    'ữ': 'uw~',\n",
        "    'ự': 'uw.',\n",
        "    'ý': 'y\\'',\n",
        "    'ỳ': 'y`',\n",
        "    'ỷ': 'y?',\n",
        "    'ỹ': 'y~',\n",
        "    'ỵ': 'y.'\n",
        "}\n",
        "region = {\n",
        "    'á': 'ã',\n",
        "    'à': 'ạ',\n",
        "    'ả': 'ã',\n",
        "    'ã': 'ả',\n",
        "    'ạ': 'à',\n",
        "    'ă': 'â',\n",
        "    'ắ': 'ẳ',\n",
        "    'ằ': 'ặ',\n",
        "    'ẳ': 'ẵ',\n",
        "    'ẵ': 'ẳ',\n",
        "    'ặ': 'ằ',\n",
        "    'â': 'ă',\n",
        "    'ấ': 'ậ',\n",
        "    'ầ': 'ẩ',\n",
        "    'ẩ': 'ẫ',\n",
        "    'ẫ': 'ể',\n",
        "    'ậ': 'ấ',\n",
        "    'é': 'ẹ',\n",
        "    'è': 'ẻ',\n",
        "    'ẻ': 'ẽ',\n",
        "    'ẽ': 'è',\n",
        "    'ẹ': 'ế',\n",
        "    'ê': 'ê',\n",
        "    'ế': 'ể',\n",
        "    'ề': 'ệ',\n",
        "    'ể': 'ế',\n",
        "    'ễ': 'ề',\n",
        "    'ệ': 'ễ',\n",
        "    'í': 'ĩ',\n",
        "    'ì': 'ị',\n",
        "    'ỉ': 'ì',\n",
        "    'ĩ': 'í',\n",
        "    'ị': 'ỉ',\n",
        "    'ó': 'ọ',\n",
        "    'ò': 'ỏ',\n",
        "    'ỏ': 'õ',\n",
        "    'õ': 'ó',\n",
        "    'ọ': 'ò',\n",
        "    'ô': 'ơ',\n",
        "    'ố': 'ỗ',\n",
        "    'ồ': 'ộ',\n",
        "    'ổ': 'ố',\n",
        "    'ỗ': 'ồ',\n",
        "    'ộ': 'ổ',\n",
        "    'ơ': 'ô',\n",
        "    'ớ': 'ợ',\n",
        "    'ờ': 'ỡ',\n",
        "    'ở': 'ờ',\n",
        "    'ỡ': 'ớ',\n",
        "    'ợ': 'ở',\n",
        "    'ú': 'ụ',\n",
        "    'ù': 'ủ',\n",
        "    'ủ': 'ũ',\n",
        "    'ũ': 'ú',\n",
        "    'ụ': 'ù',\n",
        "    'ư': 'ơ',\n",
        "    'ứ': 'ự',\n",
        "    'ừ': 'ữ',\n",
        "    'ử': 'ứ',\n",
        "    'ữ': 'ừ',\n",
        "    'ự': 'ử',\n",
        "    'ý': 'ỵ',\n",
        "    'ỳ': 'ỷ',\n",
        "    'ỷ': 'ỹ',\n",
        "    'ỹ': 'ý',\n",
        "    'ỵ': 'ỳ'\n",
        "}\n",
        "region2 = {\n",
        "    'b': 'p',\n",
        "    'c': 'k',\n",
        "    'd': 'đ',\n",
        "    'đ': 'd',\n",
        "    'g': 'gh',\n",
        "    'h': 'k',\n",
        "    'k': 'c',\n",
        "    'l': 'n',\n",
        "    'm': 'n',\n",
        "    'n': 'ng',\n",
        "    'p': 'b',\n",
        "    'q': 'k',\n",
        "    'r': 'd',\n",
        "    's': 'x',\n",
        "    't': 'th',\n",
        "    'v': 'f',\n",
        "    'x': 's',\n",
        "    'ch': 'tr',\n",
        "    'gh': 'g',\n",
        "    'kh': 'h',\n",
        "    'ng': 'n',\n",
        "    'ngh': 'ng',\n",
        "    'nh': 'n',\n",
        "    'ph': 'f',\n",
        "    'th': 't',\n",
        "    'tr': 'ch'\n",
        "}\n",
        "acronym = {\n",
        "    'Anh':'a',\n",
        "    'anh': 'a',\n",
        "    'chị': 'c',\n",
        "    'em': 'e',\n",
        "    'tôi': 't',\n",
        "    'bạn': 'bn',\n",
        "    'không': 'ko',\n",
        "    'được': 'dc',\n",
        "    'gì': 'j',\n",
        "    'biết': 'bt',\n",
        "    'rồi': 'r',\n",
        "    'vui': 'vv',\n",
        "    'buồn': 'b',\n",
        "    'và': 'vs',\n",
        "    'vì': 'v',\n",
        "    'như': 'n',\n",
        "    'điện thoại': 'dt',\n",
        "    'làm việc': 'lv',\n",
        "    'sinh nhật': 'sn',\n",
        "    'thế nào': 'tn',\n",
        "    'bao giờ': 'bg',\n",
        "    'nhất': '1',\n",
        "    'yêu': 'iu',\n",
        "    'không sao': 'ks',\n",
        "    'gia đình': 'gd',\n",
        "    'bạn bè': 'bb',\n",
        "    'giúp đỡ': 'gd',\n",
        "    'đi': 'đi',\n",
        "    'nhà': 'nhà',\n",
        "    'học': 'hc',\n",
        "    'người': 'ng',\n",
        "    'chưa': 'chưa',\n",
        "    'chuyện': 'ch',\n",
        "    'một': '1',\n",
        "    'rất': 'rất',\n",
        "    'với': 'vs'\n",
        "}\n",
        "\n",
        "print(acronym)\n",
        "print(typo)\n",
        "print(region)\n",
        "print(region2)"
      ]
    },
    {
      "cell_type": "code",
      "execution_count": 17,
      "metadata": {
        "colab": {
          "base_uri": "https://localhost:8080/"
        },
        "id": "T8jBw6C15Qpr",
        "outputId": "d2152438-b716-4903-9e33-377f2091f453"
      },
      "outputs": [
        {
          "name": "stdout",
          "output_type": "stream",
          "text": [
            "Collecting unidecode\n",
            "  Downloading Unidecode-1.3.8-py3-none-any.whl (235 kB)\n",
            "\u001b[?25l     \u001b[90m━━━━━━━━━━━━━━━━━━━━━━━━━━━━━━━━━━━━━━━━\u001b[0m \u001b[32m0.0/235.5 kB\u001b[0m \u001b[31m?\u001b[0m eta \u001b[36m-:--:--\u001b[0m\r\u001b[2K     \u001b[91m━━━━━━\u001b[0m\u001b[91m╸\u001b[0m\u001b[90m━━━━━━━━━━━━━━━━━━━━━━━━━━━━━━━━━\u001b[0m \u001b[32m41.0/235.5 kB\u001b[0m \u001b[31m1.2 MB/s\u001b[0m eta \u001b[36m0:00:01\u001b[0m\r\u001b[2K     \u001b[91m━━━━━━━━━━━━━━━━━━━━━━━━━━━━━━━━━━━━━━\u001b[0m\u001b[90m╺\u001b[0m\u001b[90m━\u001b[0m \u001b[32m225.3/235.5 kB\u001b[0m \u001b[31m3.4 MB/s\u001b[0m eta \u001b[36m0:00:01\u001b[0m\r\u001b[2K     \u001b[90m━━━━━━━━━━━━━━━━━━━━━━━━━━━━━━━━━━━━━━━━\u001b[0m \u001b[32m235.5/235.5 kB\u001b[0m \u001b[31m3.2 MB/s\u001b[0m eta \u001b[36m0:00:00\u001b[0m\n",
            "\u001b[?25hInstalling collected packages: unidecode\n",
            "Successfully installed unidecode-1.3.8\n"
          ]
        }
      ],
      "source": [
        "!pip install unidecode"
      ]
    },
    {
      "cell_type": "code",
      "execution_count": 18,
      "metadata": {
        "id": "7XTd_owhLyhm"
      },
      "outputs": [],
      "source": [
        "import re\n",
        "import numpy as np\n",
        "from unidecode import unidecode\n",
        "\n",
        "def teen_code(sentence):\n",
        "  random = np.random.uniform(0,1,1)[0]\n",
        "  new_sentence= str(sentence)\n",
        "\n",
        "  if random >0.5:\n",
        "    for word in acronym.keys():\n",
        "      random2=np.random.uniform(0,1,1)[0]\n",
        "      if random2 < 0.5:\n",
        "        new_sentence=re.sub(word,acronym[word],new_sentence)\n",
        "    return new_sentence\n",
        "  else:\n",
        "    return sentence\n",
        "\n",
        "def add_noise(sentence):\n",
        "  sentence= teen_code(sentence)\n",
        "  noisy_sentence=''\n",
        "  i=0\n",
        "  while i < len(sentence):\n",
        "    if sentence[i] not in full_letters:\n",
        "      noisy_sentence += sentence[i]\n",
        "    else:\n",
        "      random = np.random.uniform(0,1,1)[0]\n",
        "      if random <=0.94:\n",
        "        noisy_sentence+= sentence[i]\n",
        "      elif random <=0.985:\n",
        "        if sentence[i] in typo.keys():\n",
        "          if sentence[i] in region.keys():\n",
        "            random2 = np.random.uniform(0,1,1)[0]\n",
        "            if random2 <=0.4:\n",
        "              noisy_sentence += typo[sentence[i]]\n",
        "            elif random2 <0.8:\n",
        "              noisy_sentence +=region[sentence[i]]\n",
        "            elif random2 <0.95:\n",
        "              noisy_sentence +=unidecode(sentence[i])\n",
        "            else:\n",
        "              noisy_sentence +=sentence[i]\n",
        "          else:\n",
        "            random3 = np.random.uniform(0,1,1)[0]\n",
        "            if random3 <= 0.6:\n",
        "              noisy_sentence += typo[sentence[i]]\n",
        "            elif random3 <0.9:\n",
        "              noisy_sentence +=unidecode(sentence[i])\n",
        "            else:\n",
        "              noisy_sentence += sentence[i]\n",
        "        elif i == 0 or sentence[i-1] not in full_letters:\n",
        "          random4=np.random.uniform(0,1,1)[0]\n",
        "          if random4 <=0.9:\n",
        "            if i < len(sentence) -1 and sentence[i] in region2.keys() and sentence[i+1] in vowel:\n",
        "              noisy_sentence+= region2[sentence[i]]\n",
        "            elif i < len(sentence) - 2 and sentence[i:i+2] in region2.keys() and sentence[i+2] in vowel:\n",
        "              noisy_sentence += region2[sentence[i:i+2]]\n",
        "              i+=1\n",
        "            else:\n",
        "              noisy_sentence += sentence[i]\n",
        "          else:\n",
        "            noisy_sentence += sentence[i]\n",
        "        else:\n",
        "          noisy_sentence += sentence[i]\n",
        "      else:\n",
        "        new_random = np.random.uniform(0,1,1)[0]\n",
        "        if new_random <= 0.33 and i != len(sentence) -1:\n",
        "          noisy_sentence += sentence[i+1]\n",
        "          noisy_sentence += sentence[i]\n",
        "          i+=1\n",
        "        else:\n",
        "          noisy_sentence +=sentence[i]\n",
        "\n",
        "    i += 1\n",
        "\n",
        "  return noisy_sentence"
      ]
    },
    {
      "cell_type": "code",
      "execution_count": 19,
      "metadata": {
        "colab": {
          "base_uri": "https://localhost:8080/",
          "height": 36
        },
        "id": "BdamqS65nCp4",
        "outputId": "3238eda8-256e-4ecb-e1f4-ef7459938dc6"
      },
      "outputs": [
        {
          "data": {
            "application/vnd.google.colaboratory.intrinsic+json": {
              "type": "string"
            },
            "text/plain": [
              "'Tôi tên là Nguyễn Anh Dũng'"
            ]
          },
          "execution_count": 19,
          "metadata": {},
          "output_type": "execute_result"
        }
      ],
      "source": [
        "add_noise('Tôi tên là Nguyễn Anh Dũng')"
      ]
    },
    {
      "cell_type": "code",
      "execution_count": 136,
      "metadata": {
        "colab": {
          "base_uri": "https://localhost:8080/"
        },
        "id": "GNx4zUJSnv8M",
        "outputId": "24274b62-7e14-46ee-d20f-90884a9ef3cc"
      },
      "outputs": [
        {
          "name": "stdout",
          "output_type": "stream",
          "text": [
            "190\n",
            "['\\x00', ' ', '0', '1', '2', '3', '4', '5', '6', '7', '8', '9', 'a', 'ă', 'â', 'e', 'ê', 'i', 'o', 'ô', 'ơ', 'u', 'ư', 'y', 'A', 'Ă', 'Â', 'E', 'Ê', 'I', 'O', 'Ô', 'Ơ', 'U', 'Ư', 'Y', 'á', 'à', 'ả', 'ã', 'ạ', 'ắ', 'ằ', 'ẳ', 'ẵ', 'ặ', 'ấ', 'ầ', 'ẩ', 'ẫ', 'ậ', 'é', 'è', 'ẻ', 'ẽ', 'ẹ', 'ế', 'ề', 'ể', 'ễ', 'ệ', 'í', 'ì', 'ỉ', 'ĩ', 'ị', 'ó', 'ò', 'ỏ', 'õ', 'ọ', 'ố', 'ồ', 'ổ', 'ỗ', 'ộ', 'ớ', 'ờ', 'ở', 'ỡ', 'ợ', 'ú', 'ù', 'ủ', 'ũ', 'ụ', 'ứ', 'ừ', 'ử', 'ữ', 'ự', 'ý', 'ỳ', 'ỷ', 'ỹ', 'ỵ', 'Á', 'À', 'Ả', 'Ã', 'Ạ', 'Ắ', 'Ằ', 'Ẳ', 'Ẵ', 'Ặ', 'Ấ', 'Ầ', 'Ẩ', 'Ẫ', 'Ậ', 'É', 'È', 'Ẻ', 'Ẽ', 'Ẹ', 'Ế', 'Ề', 'Ể', 'Ễ', 'Ệ', 'Í', 'Ì', 'Ỉ', 'Ĩ', 'Ị', 'Ó', 'Ò', 'Ỏ', 'Õ', 'Ọ', 'Ố', 'Ồ', 'Ổ', 'Ỗ', 'Ộ', 'Ớ', 'Ờ', 'Ở', 'Ỡ', 'Ợ', 'Ú', 'Ù', 'Ủ', 'Ũ', 'Ụ', 'Ứ', 'Ừ', 'Ử', 'Ữ', 'Ự', 'Ý', 'Ỳ', 'Ỷ', 'Ỹ', 'Ỵ', 'b', 'c', 'd', 'đ', 'g', 'h', 'k', 'l', 'm', 'n', 'p', 'q', 'r', 's', 't', 'v', 'x', 'B', 'C', 'D', 'Đ', 'G', 'H', 'K', 'L', 'M', 'N', 'P', 'Q', 'R', 'S', 'T', 'V', 'X']\n"
          ]
        }
      ],
      "source": [
        "alphabet = ['\\x00',' '] + list('0123456789') + full_letters\n",
        "print(len(alphabet))\n",
        "print(alphabet)"
      ]
    },
    {
      "cell_type": "code",
      "execution_count": 21,
      "metadata": {
        "colab": {
          "base_uri": "https://localhost:8080/"
        },
        "id": "7AlL1ZL7oNmW",
        "outputId": "097f5f87-63df-42c8-c170-eb2d6db3974b"
      },
      "outputs": [
        {
          "name": "stdout",
          "output_type": "stream",
          "text": [
            "15120\n"
          ]
        },
        {
          "data": {
            "text/plain": [
              "['Bảo hiểm y tế đang thực hiện tốt vai trò hỗ trợ người dân trong khám chữa bệnh',\n",
              " 'nhưng vì nhiều lý do mà mức hỗ trợ này chưa đủ',\n",
              " 'Chúng tôi dù cố gắng chuyện trò cũng không thể thay thế các mối quan hệ của ông bà',\n",
              " 'Số khác cho biết nếu công ty quyết ký hợp đồng chính thức',\n",
              " 'họ sẽ nghỉ việc',\n",
              " 'Trang phục mang phong cách cổ điển',\n",
              " 'gồm vest và chân váy bút chì làm từ gấm trắng',\n",
              " 'đính sequin và các hạt cườm nhằm tăng hiệu ứng thị giác',\n",
              " 'Nghiên cứu của Mayeski cho thấy các điều kiện đang thay đổi trên khắp đỉnh Everest',\n",
              " 'không chỉ riêng tại thác băng Khumbu']"
            ]
          },
          "execution_count": 21,
          "metadata": {},
          "output_type": "execute_result"
        }
      ],
      "source": [
        "phrases= []\n",
        "\n",
        "for text in data:\n",
        "  for c in set(text):\n",
        "    if re.match('\\w',c) and c not in alphabet:\n",
        "      uc = unidecode(c)\n",
        "      if re.match('\\w',uc) and uc not in alphabet:\n",
        "        text = re.sub(c, '', text)\n",
        "      else:\n",
        "        text = re.sub(c, uc, text)\n",
        "  phrases += re.findall(r'\\w[\\w\\s]+', text)\n",
        "\n",
        "phrases = [p.strip() for p in phrases if len(p.split()) > 1]\n",
        "\n",
        "print(len(phrases))\n",
        "phrases[-10:]"
      ]
    },
    {
      "cell_type": "code",
      "execution_count": 22,
      "metadata": {
        "colab": {
          "base_uri": "https://localhost:8080/"
        },
        "id": "mU8MldV2JHpy",
        "outputId": "d14a2088-7065-4c42-8812-d53a4f8776e8"
      },
      "outputs": [
        {
          "name": "stdout",
          "output_type": "stream",
          "text": [
            "Requirement already satisfied: nltk in /usr/local/lib/python3.10/dist-packages (3.8.1)\n",
            "Requirement already satisfied: click in /usr/local/lib/python3.10/dist-packages (from nltk) (8.1.7)\n",
            "Requirement already satisfied: joblib in /usr/local/lib/python3.10/dist-packages (from nltk) (1.4.2)\n",
            "Requirement already satisfied: regex>=2021.8.3 in /usr/local/lib/python3.10/dist-packages (from nltk) (2023.12.25)\n",
            "Requirement already satisfied: tqdm in /usr/local/lib/python3.10/dist-packages (from nltk) (4.66.4)\n"
          ]
        }
      ],
      "source": [
        "!pip install  --upgrade nltk"
      ]
    },
    {
      "cell_type": "code",
      "execution_count": 23,
      "metadata": {
        "colab": {
          "base_uri": "https://localhost:8080/"
        },
        "id": "FzWWlS0tJLOe",
        "outputId": "935cb224-2bb5-41fc-cfc9-c40817b9a014"
      },
      "outputs": [
        {
          "name": "stdout",
          "output_type": "stream",
          "text": [
            "87196\n"
          ]
        },
        {
          "data": {
            "text/plain": [
              "['Nhìn túi thuốc',\n",
              " 'tôi buồn quá',\n",
              " 'Tôi còn muốn đưa họ',\n",
              " 'còn muốn đưa họ đi',\n",
              " 'muốn đưa họ đi du',\n",
              " 'đưa họ đi du lịch',\n",
              " 'họ đi du lịch nhiều',\n",
              " 'đi du lịch nhiều nơi',\n",
              " 'Bước đầu',\n",
              " 'nguyên nhân được cho là']"
            ]
          },
          "execution_count": 23,
          "metadata": {},
          "output_type": "execute_result"
        }
      ],
      "source": [
        "from nltk import ngrams\n",
        "\n",
        "NGRAM=5\n",
        "MAXLEN=39\n",
        "\n",
        "list_ngrams=[]\n",
        "for p in phrases:\n",
        "  list_p=p.split()\n",
        "  if(len(list_p) >= NGRAM):\n",
        "    for ngr in ngrams(p.split(),NGRAM):\n",
        "      if len(' '.join(ngr)) <= MAXLEN:\n",
        "        list_ngrams.append(' '.join(ngr))\n",
        "  elif len(' '.join(list_p)) <= MAXLEN:\n",
        "    list_ngrams.append(' '.join(list_p))\n",
        "\n",
        "list_ngrams = list((list_ngrams))\n",
        "print(len(list_ngrams))\n",
        "list_ngrams[:10]"
      ]
    },
    {
      "cell_type": "code",
      "execution_count": 24,
      "metadata": {
        "id": "JiwcRMSWLuWs"
      },
      "outputs": [],
      "source": [
        "def encoder_data(text):\n",
        "  x=np.zeros((MAXLEN, len(alphabet)))\n",
        "  for i, c in enumerate(text[:MAXLEN]):\n",
        "    if c not in alphabet:\n",
        "      continue\n",
        "    x[i,alphabet.index(c)] = 1\n",
        "  if i < MAXLEN -1:\n",
        "    for j in range(i+1,MAXLEN):\n",
        "      x[j,0] =1\n",
        "  return x\n",
        "\n",
        "def decoder_data(x):\n",
        "  x=x.argmax(axis=-1)\n",
        "  return ''.join(alphabet[i] for i in x)"
      ]
    },
    {
      "cell_type": "code",
      "execution_count": 25,
      "metadata": {
        "colab": {
          "base_uri": "https://localhost:8080/"
        },
        "id": "BdBnf3LAM_nv",
        "outputId": "aa6a77af-b34f-4f4d-ba5f-37334894672c"
      },
      "outputs": [
        {
          "name": "stdout",
          "output_type": "stream",
          "text": [
            "(39, 190)\n",
            "tôi tên là Nguyễn Anh Dũng\u0000\u0000\u0000\u0000\u0000\u0000\u0000\u0000\u0000\u0000\u0000\u0000\u0000\n"
          ]
        }
      ],
      "source": [
        "print(encoder_data('tôi tên là Nguyễn Anh Dũng').shape)\n",
        "print(decoder_data(encoder_data('tôi tên là Nguyễn Anh Dũng')))"
      ]
    },
    {
      "cell_type": "code",
      "execution_count": 1,
      "metadata": {
        "id": "XtUszbo7Nf0_"
      },
      "outputs": [],
      "source": [
        "from keras.models import Sequential\n",
        "from keras.layers import Activation, TimeDistributed, Dense, LSTM, Bidirectional\n",
        "from tensorflow.keras.optimizers import Adam\n",
        "import tensorflow as tf"
      ]
    },
    {
      "cell_type": "code",
      "execution_count": 27,
      "metadata": {
        "id": "x-Ah2qWbiYWd"
      },
      "outputs": [],
      "source": [
        "encoder = LSTM(256,input_shape =(MAXLEN,len(alphabet)),return_sequences=True)"
      ]
    },
    {
      "cell_type": "code",
      "execution_count": 28,
      "metadata": {
        "id": "NKf4IH6Kimlu"
      },
      "outputs": [],
      "source": [
        "decoder= Bidirectional(LSTM(256,return_sequences=True,dropout=0.2))"
      ]
    },
    {
      "cell_type": "code",
      "execution_count": 41,
      "metadata": {
        "colab": {
          "base_uri": "https://localhost:8080/"
        },
        "id": "BYE5EzUhiwhG",
        "outputId": "8b9433a1-0986-4f16-f291-a5fa85b90868"
      },
      "outputs": [
        {
          "name": "stdout",
          "output_type": "stream",
          "text": [
            "Model: \"sequential_1\"\n",
            "_________________________________________________________________\n",
            " Layer (type)                Output Shape              Param #   \n",
            "=================================================================\n",
            " lstm (LSTM)                 (None, 39, 256)           457728    \n",
            "                                                                 \n",
            " bidirectional (Bidirection  (None, 39, 512)           1050624   \n",
            " al)                                                             \n",
            "                                                                 \n",
            " time_distributed_2 (TimeDi  (None, 39, 256)           131328    \n",
            " stributed)                                                      \n",
            "                                                                 \n",
            " activation_2 (Activation)   (None, 39, 256)           0         \n",
            "                                                                 \n",
            " time_distributed_3 (TimeDi  (None, 39, 190)           48830     \n",
            " stributed)                                                      \n",
            "                                                                 \n",
            " activation_3 (Activation)   (None, 39, 190)           0         \n",
            "                                                                 \n",
            "=================================================================\n",
            "Total params: 1688510 (6.44 MB)\n",
            "Trainable params: 1688510 (6.44 MB)\n",
            "Non-trainable params: 0 (0.00 Byte)\n",
            "_________________________________________________________________\n"
          ]
        }
      ],
      "source": [
        "model = Sequential()\n",
        "model.add(encoder)\n",
        "model.add(decoder)\n",
        "model.add(TimeDistributed(Dense(256)))\n",
        "model.add(Activation('relu'))\n",
        "model.add(TimeDistributed(Dense(len(alphabet))))\n",
        "model.add(Activation('softmax'))\n",
        "\n",
        "model.compile(loss='categorical_crossentropy',optimizer=Adam(learning_rate=0.001),metrics=['accuracy'])\n",
        "\n",
        "model.summary()"
      ]
    },
    {
      "cell_type": "code",
      "execution_count": 42,
      "metadata": {
        "colab": {
          "base_uri": "https://localhost:8080/",
          "height": 661
        },
        "id": "gDR9W8WQkUfa",
        "outputId": "2af154c6-2e97-4ca2-93e0-a52bfbcdb3ce"
      },
      "outputs": [
        {
          "data": {
            "image/png": "[encoded data removed]",
            "text/plain": [
              "<IPython.core.display.Image object>"
            ]
          },
          "execution_count": 42,
          "metadata": {},
          "output_type": "execute_result"
        }
      ],
      "source": [
        "from tensorflow.keras.utils import plot_model\n",
        "plot_model(model,to_file='model.png')"
      ]
    },
    {
      "cell_type": "code",
      "execution_count": 43,
      "metadata": {
        "id": "xXjmZVIAkgAE"
      },
      "outputs": [],
      "source": [
        "from sklearn.model_selection import train_test_split\n",
        "train_data, valid_data = train_test_split(list_ngrams,test_size=0.2,random_state=42)"
      ]
    },
    {
      "cell_type": "code",
      "execution_count": 44,
      "metadata": {
        "id": "T41808V2k3yN"
      },
      "outputs": [],
      "source": [
        "BATCH_SIZE = 512\n",
        "EPOCHS =10\n",
        "\n",
        "def generate_data(data,batch_size):\n",
        "  current_index = 0\n",
        "  while True:\n",
        "    x,y=[],[]\n",
        "    for i in range(batch_size):\n",
        "      y.append(encoder_data(data[current_index]))\n",
        "      x.append(encoder_data(add_noise(data[current_index])))\n",
        "      current_index +=1\n",
        "      if current_index > len(data) -1:\n",
        "        current_index =0\n",
        "    yield(np.array(x),np.array(y))"
      ]
    },
    {
      "cell_type": "code",
      "execution_count": 45,
      "metadata": {
        "id": "_whbUuBdl4k7"
      },
      "outputs": [],
      "source": [
        "train_generator = generate_data(train_data,batch_size=BATCH_SIZE)\n",
        "validation_generator = generate_data(valid_data,batch_size=BATCH_SIZE)"
      ]
    },
    {
      "cell_type": "code",
      "execution_count": 46,
      "metadata": {
        "colab": {
          "base_uri": "https://localhost:8080/"
        },
        "id": "VPxrQxVORBls",
        "outputId": "95b3883a-cdd5-4a74-c4cd-6c468416e712"
      },
      "outputs": [
        {
          "data": {
            "text/plain": [
              "136"
            ]
          },
          "execution_count": 46,
          "metadata": {},
          "output_type": "execute_result"
        }
      ],
      "source": [
        "len(train_data)//BATCH_SIZE"
      ]
    },
    {
      "cell_type": "code",
      "execution_count": 47,
      "metadata": {
        "colab": {
          "base_uri": "https://localhost:8080/"
        },
        "id": "zRENfuWemPRm",
        "outputId": "4d3cc369-365a-4f47-bbe2-7c7e968d9144"
      },
      "outputs": [
        {
          "name": "stdout",
          "output_type": "stream",
          "text": [
            "Epoch 1/10\n",
            "136/136 [==============================] - 49s 315ms/step - loss: 0.8154 - accuracy: 0.8364 - val_loss: 0.2685 - val_accuracy: 0.9381\n",
            "Epoch 2/10\n",
            "136/136 [==============================] - 56s 414ms/step - loss: 0.2430 - accuracy: 0.9418 - val_loss: 0.2167 - val_accuracy: 0.9473\n",
            "Epoch 3/10\n",
            "136/136 [==============================] - 46s 337ms/step - loss: 0.2062 - accuracy: 0.9475 - val_loss: 0.1853 - val_accuracy: 0.9500\n",
            "Epoch 4/10\n",
            "136/136 [==============================] - 52s 383ms/step - loss: 0.1856 - accuracy: 0.9515 - val_loss: 0.1669 - val_accuracy: 0.9557\n",
            "Epoch 5/10\n",
            "136/136 [==============================] - 55s 405ms/step - loss: 0.1665 - accuracy: 0.9558 - val_loss: 0.1533 - val_accuracy: 0.9592\n",
            "Epoch 6/10\n",
            "136/136 [==============================] - 52s 383ms/step - loss: 0.1517 - accuracy: 0.9598 - val_loss: 0.1384 - val_accuracy: 0.9632\n",
            "Epoch 7/10\n",
            "136/136 [==============================] - 53s 389ms/step - loss: 0.1403 - accuracy: 0.9622 - val_loss: 0.1304 - val_accuracy: 0.9651\n",
            "Epoch 8/10\n",
            "136/136 [==============================] - 67s 496ms/step - loss: 0.1309 - accuracy: 0.9641 - val_loss: 0.1249 - val_accuracy: 0.9639\n",
            "Epoch 9/10\n",
            "136/136 [==============================] - 61s 448ms/step - loss: 0.1188 - accuracy: 0.9673 - val_loss: 0.1033 - val_accuracy: 0.9714\n",
            "Epoch 10/10\n",
            "136/136 [==============================] - 60s 447ms/step - loss: 0.1117 - accuracy: 0.9684 - val_loss: 0.0947 - val_accuracy: 0.9723\n"
          ]
        }
      ],
      "source": [
        "H=model.fit(train_generator,epochs=EPOCHS,steps_per_epoch = len(train_data)//BATCH_SIZE,validation_data=validation_generator,validation_steps=len(valid_data)//BATCH_SIZE)\n"
      ]
    },
    {
      "cell_type": "code",
      "execution_count": 48,
      "metadata": {
        "colab": {
          "base_uri": "https://localhost:8080/"
        },
        "id": "858cu3ZgcV72",
        "outputId": "a85674c0-5273-4465-cddc-7d54708fa750"
      },
      "outputs": [
        {
          "name": "stderr",
          "output_type": "stream",
          "text": [
            "/usr/local/lib/python3.10/dist-packages/keras/src/engine/training.py:3103: UserWarning: You are saving your model as an HDF5 file via `model.save()`. This file format is considered legacy. We recommend using instead the native Keras format, e.g. `model.save('my_model.keras')`.\n",
            "  saving_api.save_model(\n"
          ]
        }
      ],
      "source": [
        "model.save('model_{0:.4f}.h5'.format(H.history['val_accuracy'][-1]))"
      ]
    },
    {
      "cell_type": "code",
      "execution_count": 49,
      "metadata": {
        "colab": {
          "base_uri": "https://localhost:8080/",
          "height": 472
        },
        "id": "twlHeWlTwt8R",
        "outputId": "8c773312-f523-42d6-9d79-dc00ab98bf94"
      },
      "outputs": [
        {
          "data": {
            "image/png": "[encoded data removed]",
            "text/plain": [
              "<Figure size 640x480 with 1 Axes>"
            ]
          },
          "metadata": {},
          "output_type": "display_data"
        }
      ],
      "source": [
        "import matplotlib.pyplot as plt\n",
        "\n",
        "# plt.style.use('ggplot')\n",
        "plt.figure()\n",
        "plt.plot(np.arange(0,EPOCHS),H.history['loss'],label='loss training')\n",
        "plt.plot(np.arange(0,EPOCHS),H.history['val_loss'],label='loss validation')\n",
        "plt.plot(np.arange(0,EPOCHS),H.history['accuracy'],label='accuracy training')\n",
        "plt.plot(np.arange(0,EPOCHS),H.history['val_accuracy'],label='accuracy validation')\n",
        "plt.title('loss and accuracy in training')\n",
        "plt.xlabel('Epoch')\n",
        "plt.ylabel('loss/accuracy')\n",
        "plt.legend()\n",
        "plt.show()"
      ]
    },
    {
      "cell_type": "code",
      "execution_count": 118,
      "metadata": {
        "id": "QgiDNna2x-xW"
      },
      "outputs": [],
      "source": [
        "from collections import Counter\n",
        "from keras.models import load_model\n",
        "import nltk\n",
        "import numpy as np\n",
        "import re\n",
        "\n",
        "model =load_model('model_{0:.4f}.h5'.format(H.history['val_accuracy'][-1]))\n",
        "\n",
        "NGRAM=5\n",
        "MAXLEN=39\n"
      ]
    },
    {
      "cell_type": "code",
      "execution_count": 138,
      "metadata": {
        "colab": {
          "base_uri": "https://localhost:8080/"
        },
        "id": "f_cOlTRW-et4",
        "outputId": "271f8aa2-b01d-4071-ffa8-052e0b022ca7"
      },
      "outputs": [
        {
          "name": "stdout",
          "output_type": "stream",
          "text": [
            "190\n"
          ]
        }
      ],
      "source": [
        "print(len(alphabet))\n"
      ]
    },
    {
      "cell_type": "code",
      "execution_count": 145,
      "metadata": {
        "id": "Ss8D5xRif85l"
      },
      "outputs": [],
      "source": [
        "def encoder_data(text):\n",
        "  x=np.zeros((MAXLEN,len(alphabet)))\n",
        "  for i,c in enumerate(text[:MAXLEN]):\n",
        "    if c not in alphabet:\n",
        "      continue\n",
        "    x[i,alphabet.index(c)] =1\n",
        "  if i < MAXLEN -1:\n",
        "    for j in range(i+1,MAXLEN):\n",
        "      x[j,0] =1\n",
        "  return x\n",
        "def decoder_data(x):\n",
        "  x=x.argmax(axis=-1)\n",
        "  return ''.join(alphabet[i] for i in x)"
      ]
    },
    {
      "cell_type": "code",
      "execution_count": 146,
      "metadata": {
        "colab": {
          "base_uri": "https://localhost:8080/"
        },
        "id": "BuC5X16Phye4",
        "outputId": "1f5e4511-d61f-453b-fa1a-0e6c6d6255b3"
      },
      "outputs": [
        {
          "name": "stdout",
          "output_type": "stream",
          "text": [
            "(39, 190)\n",
            "Tôi là ai tên gì\u0000\u0000\u0000\u0000\u0000\u0000\u0000\u0000\u0000\u0000\u0000\u0000\u0000\u0000\u0000\u0000\u0000\u0000\u0000\u0000\u0000\u0000\u0000\n"
          ]
        }
      ],
      "source": [
        "print(encoder_data('Tôi là ai tên gì').shape)\n",
        "print(decoder_data(encoder_data('Tôi là ai tên gì')))"
      ]
    },
    {
      "cell_type": "code",
      "execution_count": 147,
      "metadata": {
        "id": "gkAHEPNv-pNK"
      },
      "outputs": [],
      "source": [
        "def nltk_ngrams(sentence,n,maxlen):\n",
        "  list_ngrams=[]\n",
        "  list_words=sentence.split()\n",
        "  num_words=len(list_words)\n",
        "\n",
        "  if (num_words >=n):\n",
        "    for ngram in nltk.ngrams(list_words,n):\n",
        "      if len(' '.join(ngram)) <= maxlen:\n",
        "        list_ngrams.append(ngram)\n",
        "  else:\n",
        "    list_ngrams.append(tuple(list_words))\n",
        "\n",
        "  return list_ngrams"
      ]
    },
    {
      "cell_type": "code",
      "execution_count": 148,
      "metadata": {
        "colab": {
          "base_uri": "https://localhost:8080/"
        },
        "id": "UeEVLAZV_0bx",
        "outputId": "038cdb8a-57b0-46e6-dd75-b9708783c67b"
      },
      "outputs": [
        {
          "data": {
            "text/plain": [
              "[('xuwr', 'ný', 'ngoon', 'ngữ', 'tuwj'),\n",
              " ('ný', 'ngoon', 'ngữ', 'tuwj', 'nhêin')]"
            ]
          },
          "execution_count": 148,
          "metadata": {},
          "output_type": "execute_result"
        }
      ],
      "source": [
        "nltk_ngrams('xuwr ný ngoon ngữ tuwj nhêin',NGRAM,MAXLEN)"
      ]
    },
    {
      "cell_type": "code",
      "execution_count": 149,
      "metadata": {
        "id": "4iahQceBAqef"
      },
      "outputs": [],
      "source": [
        "def guess(ngram):\n",
        "  text= ' '.join(ngram)\n",
        "  preds = model.predict(np.array([encoder_data(text)]))\n",
        "  return decoder_data(preds[0]).strip('\\x00')"
      ]
    },
    {
      "cell_type": "code",
      "execution_count": 150,
      "metadata": {
        "colab": {
          "base_uri": "https://localhost:8080/",
          "height": 53
        },
        "id": "3rpYcdy-BGgA",
        "outputId": "1718f1b2-4e3d-46f7-89b5-7b4b4e9f4c38"
      },
      "outputs": [
        {
          "name": "stdout",
          "output_type": "stream",
          "text": [
            "1/1 [==============================] - 0s 20ms/step\n"
          ]
        },
        {
          "data": {
            "application/vnd.google.colaboratory.intrinsic+json": {
              "type": "string"
            },
            "text/plain": [
              "'xuu ný ngonn gg ttử'"
            ]
          },
          "execution_count": 150,
          "metadata": {},
          "output_type": "execute_result"
        }
      ],
      "source": [
        "guess(('xuwr','ný','ngoon','ngữ','tuwj'))"
      ]
    },
    {
      "cell_type": "code",
      "execution_count": 151,
      "metadata": {
        "id": "I3a1-9DyBT28"
      },
      "outputs": [],
      "source": [
        "def add_punctuation(text,corrected_text):\n",
        "  list_punctuation ={}\n",
        "  for (i,word) in enumerate(text.split()):\n",
        "    if word[0] not in alphabet or word[-1] not in alphabet:\n",
        "      start_punc = ''\n",
        "      for c in word:\n",
        "        if c in alphabet:\n",
        "          break\n",
        "        start_punc += c\n",
        "\n",
        "      end_punc=''\n",
        "      for c in word[::-1]:\n",
        "        if c in alphabet:\n",
        "          break\n",
        "        end_punc +=c\n",
        "      end_punc = end_punc[::-1]\n",
        "\n",
        "      list_punctuation[i]=[start_punc,end_punc]\n",
        "\n",
        "  result=''\n",
        "  for (i,word) in enumerate(corrected_text.split()):\n",
        "    if i in list_punctuation:\n",
        "      result += (list_punctuation[i][0] + word + list_punctuation[i][1]) + ' '\n",
        "    else:\n",
        "      result+= word + ' '\n",
        "\n",
        "  return result.strip()\n"
      ]
    },
    {
      "cell_type": "code",
      "execution_count": 152,
      "metadata": {
        "id": "QVKKUm_jDceq"
      },
      "outputs": [],
      "source": [
        "def correct(text):\n",
        "  new_text = re.sub(r'[^' + ''.join(alphabet)+']','',text)\n",
        "\n",
        "  ngrams = list(nltk_ngrams(new_text,NGRAM,MAXLEN))\n",
        "  guessed_ngrams= list(guess(ngram) for ngram in ngrams)\n",
        "  candidates= [Counter() for _ in range(len(guessed_ngrams)+ NGRAM -1)]\n",
        "\n",
        "  for nid, ngram in (enumerate(guessed_ngrams)):\n",
        "    for wid, word in (enumerate(re.split('\\s',ngram))):\n",
        "      candidates[nid + wid].update([word])\n",
        "\n",
        "  corrected_text = ' '.join(c.most_common(1)[0][0] for c in candidates if c)\n",
        "  return add_punctuation(text,corrected_text)"
      ]
    },
    {
      "cell_type": "code",
      "execution_count": 153,
      "metadata": {
        "id": "ff_LoAYAFjcG"
      },
      "outputs": [],
      "source": [
        "text=\"Hôm qua, tôi và bạn bè đã đi chời ở công viên. Chúng tôi đã có một ngày rât vui vẻ và thich thú. Chúng tôi chơi các trò chơi như đu quay, xe điện đụng và nhà bóng\""
      ]
    },
    {
      "cell_type": "code",
      "execution_count": 154,
      "metadata": {
        "colab": {
          "base_uri": "https://localhost:8080/",
          "height": 660
        },
        "id": "v-wVm_zgFowW",
        "outputId": "96acaa92-f991-4612-dfac-6b0a4647e95a"
      },
      "outputs": [
        {
          "name": "stdout",
          "output_type": "stream",
          "text": [
            "1/1 [==============================] - 0s 19ms/step\n",
            "1/1 [==============================] - 0s 22ms/step\n",
            "1/1 [==============================] - 0s 30ms/step\n",
            "1/1 [==============================] - 0s 20ms/step\n",
            "1/1 [==============================] - 0s 20ms/step\n",
            "1/1 [==============================] - 0s 20ms/step\n",
            "1/1 [==============================] - 0s 20ms/step\n",
            "1/1 [==============================] - 0s 21ms/step\n",
            "1/1 [==============================] - 0s 20ms/step\n",
            "1/1 [==============================] - 0s 19ms/step\n",
            "1/1 [==============================] - 0s 20ms/step\n",
            "1/1 [==============================] - 0s 19ms/step\n",
            "1/1 [==============================] - 0s 25ms/step\n",
            "1/1 [==============================] - 0s 19ms/step\n",
            "1/1 [==============================] - 0s 18ms/step\n",
            "1/1 [==============================] - 0s 20ms/step\n",
            "1/1 [==============================] - 0s 19ms/step\n",
            "1/1 [==============================] - 0s 18ms/step\n",
            "1/1 [==============================] - 0s 19ms/step\n",
            "1/1 [==============================] - 0s 20ms/step\n",
            "1/1 [==============================] - 0s 18ms/step\n",
            "1/1 [==============================] - 0s 19ms/step\n",
            "1/1 [==============================] - 0s 18ms/step\n",
            "1/1 [==============================] - 0s 24ms/step\n",
            "1/1 [==============================] - 0s 18ms/step\n",
            "1/1 [==============================] - 0s 19ms/step\n",
            "1/1 [==============================] - 0s 18ms/step\n",
            "1/1 [==============================] - 0s 19ms/step\n",
            "1/1 [==============================] - 0s 21ms/step\n",
            "1/1 [==============================] - 0s 23ms/step\n",
            "1/1 [==============================] - 0s 21ms/step\n",
            "1/1 [==============================] - 0s 20ms/step\n",
            "1/1 [==============================] - 0s 20ms/step\n",
            "1/1 [==============================] - 0s 21ms/step\n",
            "1/1 [==============================] - 0s 21ms/step\n"
          ]
        },
        {
          "data": {
            "application/vnd.google.colaboratory.intrinsic+json": {
              "type": "string"
            },
            "text/plain": [
              "'Hôm qua, tôi và bạn bè đã đi crời ở công viên. Chúng tôi đã có một ngày rât vui vẻ và thcch CCúng. Chúng tôi chơi các trò chơi như đu quay, xe điện dụng và nhà bóng'"
            ]
          },
          "execution_count": 154,
          "metadata": {},
          "output_type": "execute_result"
        }
      ],
      "source": [
        "correct(text)"
      ]
    },
    {
      "cell_type": "code",
      "execution_count": 158,
      "metadata": {
        "colab": {
          "base_uri": "https://localhost:8080/"
        },
        "id": "vgPeJZXyGHsC",
        "outputId": "77cfbdae-75f4-426c-9712-64acaea5a821"
      },
      "outputs": [
        {
          "name": "stdout",
          "output_type": "stream",
          "text": [
            "a tên gì\n",
            "1/1 [==============================] - 0s 20ms/step\n",
            "ant tên \u0000ì\n"
          ]
        },
        {
          "data": {
            "text/plain": [
              "[('a', 'ant'), ('gì', '\\x00ì')]"
            ]
          },
          "execution_count": 158,
          "metadata": {},
          "output_type": "execute_result"
        }
      ],
      "source": [
        "text=input()\n",
        "\n",
        "result = correct(text)\n",
        "print(result)\n",
        "\n",
        "text = re.sub(r'[^' + ''.join(alphabet) +']','',text)\n",
        "list_text=text.split()\n",
        "\n",
        "result= re.sub(r'[^' + ''.join(alphabet) +']','',result)\n",
        "list_result=result.split()\n",
        "\n",
        "corrected_word = [(list_text[i],list_result[i]) for i in range(len(list_text)) if list_text[i] != list_result[i]]\n",
        "corrected_word"
      ]
    }
  ],
  "metadata": {
    "accelerator": "GPU",
    "colab": {
      "gpuType": "T4",
      "provenance": []
    },
    "kernelspec": {
      "display_name": "Python 3",
      "name": "python3"
    },
    "language_info": {
      "codemirror_mode": {
        "name": "ipython",
        "version": 3
      },
      "file_extension": ".py",
      "mimetype": "text/x-python",
      "name": "python",
      "nbconvert_exporter": "python",
      "pygments_lexer": "ipython3",
      "version": "3.11.2"
    }
  },
  "nbformat": 4,
  "nbformat_minor": 0
}
